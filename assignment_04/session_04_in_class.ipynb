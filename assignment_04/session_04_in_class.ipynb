{
  "nbformat": 4,
  "nbformat_minor": 0,
  "metadata": {
    "colab": {
      "name": "session_04_in_class.ipynb",
      "provenance": [],
      "collapsed_sections": [],
      "authorship_tag": "ABX9TyNLSNNRYV97AH8jQfdHRa0J",
      "include_colab_link": true
    },
    "kernelspec": {
      "name": "python3",
      "display_name": "Python 3"
    },
    "language_info": {
      "name": "python"
    }
  },
  "cells": [
    {
      "cell_type": "markdown",
      "metadata": {
        "id": "view-in-github",
        "colab_type": "text"
      },
      "source": [
        "<a href=\"https://colab.research.google.com/github/dkavali/data690_Dikshitha/blob/main/assignment_04/session_04_in_class.ipynb\" target=\"_parent\"><img src=\"https://colab.research.google.com/assets/colab-badge.svg\" alt=\"Open In Colab\"/></a>"
      ]
    },
    {
      "cell_type": "markdown",
      "metadata": {
        "id": "mV67U1v0ANIq"
      },
      "source": [
        "# Session 4 In Class Practice\n",
        "\n",
        "##Name : Dikshitha Kavali\n",
        "##Date : 9/23/2021"
      ]
    },
    {
      "cell_type": "code",
      "metadata": {
        "colab": {
          "base_uri": "https://localhost:8080/"
        },
        "id": "ijwQHez6ALWL",
        "outputId": "ab9c1490-25ed-47f6-beb1-6adf3df26ba6"
      },
      "source": [
        "with open(\"in_class.txt\", \"r\") as f:\n",
        "    lines = f.readlines()\n",
        "\n",
        "print(lines)"
      ],
      "execution_count": null,
      "outputs": [
        {
          "output_type": "stream",
          "name": "stdout",
          "text": [
            "['age: continuous.\\n', 'workclass: Private, Self-emp-not-inc, Self-emp-inc, Federal-gov, Local-gov, State-gov, Without-pay, Never-worked.\\n', 'fnlwgt: continuous.\\n', 'education: Bachelors, Some-college, 11th, HS-grad, Prof-school, Assoc-acdm, Assoc-voc, 9th, 7th-8th, 12th, Masters, 1st-4th, 10th, Doctorate, 5th-6th, Preschool.\\n', 'education-num: continuous.\\n', 'marital-status: Married-civ-spouse, Divorced, Never-married, Separated, Widowed, Married-spouse-absent, Married-AF-spouse.\\n', 'occupation: Tech-support, Craft-repair, Other-service, Sales, Exec-managerial, Prof-specialty, Handlers-cleaners, Machine-op-inspct, Adm-clerical, Farming-fishing, Transport-moving, Priv-house-serv, Protective-serv, Armed-Forces.\\n', 'relationship: Wife, Own-child, Husband, Not-in-family, Other-relative, Unmarried.\\n', 'race: White, Asian-Pac-Islander, Amer-Indian-Eskimo, Other, Black.\\n', 'sex: Female, Male.\\n', 'capital-gain: continuous.\\n', 'capital-loss: continuous.\\n', 'hours-per-week: continuous.\\n', 'native-country: United-States, Cambodia, England, Puerto-Rico, Canada, Germany, Outlying-US(Guam-USVI-etc), India, Japan, Greece, South, China, Cuba, Iran, Honduras, Philippines, Italy, Poland, Jamaica, Vietnam, Mexico, Portugal, Ireland, France, Dominican-Republic, Laos, Ecuador, Taiwan, Haiti, Columbia, Hungary, Guatemala, Nicaragua, Scotland, Thailand, Yugoslavia, El-Salvador, Trinadad&Tobago, Peru, Hong, Holand-Netherlands.']\n"
          ]
        }
      ]
    },
    {
      "cell_type": "code",
      "metadata": {
        "colab": {
          "base_uri": "https://localhost:8080/"
        },
        "id": "c7w3G70qCy1-",
        "outputId": "0458a5ba-9760-45ab-f031-761c2ee7d53f"
      },
      "source": [
        "for line in lines:\n",
        "    print(line)\n"
      ],
      "execution_count": null,
      "outputs": [
        {
          "output_type": "stream",
          "name": "stdout",
          "text": [
            "age: continuous.\n",
            "\n",
            "workclass: Private, Self-emp-not-inc, Self-emp-inc, Federal-gov, Local-gov, State-gov, Without-pay, Never-worked.\n",
            "\n",
            "fnlwgt: continuous.\n",
            "\n",
            "education: Bachelors, Some-college, 11th, HS-grad, Prof-school, Assoc-acdm, Assoc-voc, 9th, 7th-8th, 12th, Masters, 1st-4th, 10th, Doctorate, 5th-6th, Preschool.\n",
            "\n",
            "education-num: continuous.\n",
            "\n",
            "marital-status: Married-civ-spouse, Divorced, Never-married, Separated, Widowed, Married-spouse-absent, Married-AF-spouse.\n",
            "\n",
            "occupation: Tech-support, Craft-repair, Other-service, Sales, Exec-managerial, Prof-specialty, Handlers-cleaners, Machine-op-inspct, Adm-clerical, Farming-fishing, Transport-moving, Priv-house-serv, Protective-serv, Armed-Forces.\n",
            "\n",
            "relationship: Wife, Own-child, Husband, Not-in-family, Other-relative, Unmarried.\n",
            "\n",
            "race: White, Asian-Pac-Islander, Amer-Indian-Eskimo, Other, Black.\n",
            "\n",
            "sex: Female, Male.\n",
            "\n",
            "capital-gain: continuous.\n",
            "\n",
            "capital-loss: continuous.\n",
            "\n",
            "hours-per-week: continuous.\n",
            "\n",
            "native-country: United-States, Cambodia, England, Puerto-Rico, Canada, Germany, Outlying-US(Guam-USVI-etc), India, Japan, Greece, South, China, Cuba, Iran, Honduras, Philippines, Italy, Poland, Jamaica, Vietnam, Mexico, Portugal, Ireland, France, Dominican-Republic, Laos, Ecuador, Taiwan, Haiti, Columbia, Hungary, Guatemala, Nicaragua, Scotland, Thailand, Yugoslavia, El-Salvador, Trinadad&Tobago, Peru, Hong, Holand-Netherlands.\n"
          ]
        }
      ]
    },
    {
      "cell_type": "code",
      "metadata": {
        "colab": {
          "base_uri": "https://localhost:8080/"
        },
        "id": "yv7_5GlNDicN",
        "outputId": "3968e266-0941-47ac-e46f-39de4c32eba4"
      },
      "source": [
        "print(len(lines))"
      ],
      "execution_count": null,
      "outputs": [
        {
          "output_type": "stream",
          "name": "stdout",
          "text": [
            "14\n"
          ]
        }
      ]
    },
    {
      "cell_type": "code",
      "metadata": {
        "colab": {
          "base_uri": "https://localhost:8080/"
        },
        "id": "I-ngkiZbDreF",
        "outputId": "04bc9aa9-ddaa-4e2b-a5a2-ab4545fce6b2"
      },
      "source": [
        "column_names = [line.split(\":\")[0] for line in lines]\n",
        "\n",
        "print(column_names)"
      ],
      "execution_count": null,
      "outputs": [
        {
          "output_type": "stream",
          "name": "stdout",
          "text": [
            "['age', 'workclass', 'fnlwgt', 'education', 'education-num', 'marital-status', 'occupation', 'relationship', 'race', 'sex', 'capital-gain', 'capital-loss', 'hours-per-week', 'native-country']\n"
          ]
        }
      ]
    },
    {
      "cell_type": "code",
      "metadata": {
        "colab": {
          "base_uri": "https://localhost:8080/"
        },
        "id": "xwIXkdpJETTm",
        "outputId": "104d5775-321a-40fa-ae75-d20b282469ac"
      },
      "source": [
        "\n",
        "column_names = []\n",
        "\n",
        "for line in lines:\n",
        "    name = line.split(\":\")[0]\n",
        "    column_names.append(name)\n",
        "\n",
        "print(column_names)"
      ],
      "execution_count": null,
      "outputs": [
        {
          "output_type": "stream",
          "name": "stdout",
          "text": [
            "['age', 'workclass', 'fnlwgt', 'education', 'education-num', 'marital-status', 'occupation', 'relationship', 'race', 'sex', 'capital-gain', 'capital-loss', 'hours-per-week', 'native-country']\n"
          ]
        }
      ]
    },
    {
      "cell_type": "code",
      "metadata": {
        "id": "jZSWT5JxEvlY"
      },
      "source": [
        "\n",
        "with open(\"in_class_out.txt\", \"w\") as f:\n",
        "    for name in column_names:\n",
        "        f.write(name + \"\\n\")\n",
        "       \n",
        "    \n"
      ],
      "execution_count": null,
      "outputs": []
    },
    {
      "cell_type": "code",
      "metadata": {
        "id": "qZITv1qFF82p"
      },
      "source": [
        "with open(\"in_class_out.txt\", \"w\") as f:\n",
        "    for i in range(0, len(column_names)):\n",
        "        f.write(column_names[i])\n",
        "        if i < len(column_names)-1:\n",
        "             f.write(\"\\n\")\n",
        "       "
      ],
      "execution_count": null,
      "outputs": []
    }
  ]
}