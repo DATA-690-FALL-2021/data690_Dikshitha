{
  "nbformat": 4,
  "nbformat_minor": 0,
  "metadata": {
    "colab": {
      "name": "session_04_in_class_practice_2.ipynb",
      "provenance": [],
      "collapsed_sections": [],
      "authorship_tag": "ABX9TyOIMWY86y80JptRPp6afP0K",
      "include_colab_link": true
    },
    "kernelspec": {
      "name": "python3",
      "display_name": "Python 3"
    },
    "language_info": {
      "name": "python"
    }
  },
  "cells": [
    {
      "cell_type": "markdown",
      "metadata": {
        "id": "view-in-github",
        "colab_type": "text"
      },
      "source": [
        "<a href=\"https://colab.research.google.com/github/dkavali/data690_Dikshitha/blob/main/assignment_04/session_04_in_class_practice_2.ipynb\" target=\"_parent\"><img src=\"https://colab.research.google.com/assets/colab-badge.svg\" alt=\"Open In Colab\"/></a>"
      ]
    },
    {
      "cell_type": "markdown",
      "metadata": {
        "id": "y9zYSd1pNi0Z"
      },
      "source": [
        "# Session 4 In Class Practice 2\n",
        "\n",
        "##Name : Dikshitha Kavali\n",
        "##Date : 9/23/2021"
      ]
    },
    {
      "cell_type": "code",
      "metadata": {
        "id": "ZnkfgqyQNf9I"
      },
      "source": [
        "import pandas as pd"
      ],
      "execution_count": 2,
      "outputs": []
    },
    {
      "cell_type": "code",
      "metadata": {
        "colab": {
          "base_uri": "https://localhost:8080/",
          "height": 206
        },
        "id": "SeglJZt5NwI3",
        "outputId": "6749bbb3-c883-4781-e6f1-af23b88f3c38"
      },
      "source": [
        "df = pd.read_csv(\"census_costs.txt\", sep = \"\\t\")\n",
        "df.head()"
      ],
      "execution_count": 10,
      "outputs": [
        {
          "output_type": "execute_result",
          "data": {
            "text/html": [
              "<div>\n",
              "<style scoped>\n",
              "    .dataframe tbody tr th:only-of-type {\n",
              "        vertical-align: middle;\n",
              "    }\n",
              "\n",
              "    .dataframe tbody tr th {\n",
              "        vertical-align: top;\n",
              "    }\n",
              "\n",
              "    .dataframe thead th {\n",
              "        text-align: right;\n",
              "    }\n",
              "</style>\n",
              "<table border=\"1\" class=\"dataframe\">\n",
              "  <thead>\n",
              "    <tr style=\"text-align: right;\">\n",
              "      <th></th>\n",
              "      <th>Census Year</th>\n",
              "      <th>Total Population</th>\n",
              "      <th>Census Cost</th>\n",
              "      <th>Average Cost Per Person</th>\n",
              "    </tr>\n",
              "  </thead>\n",
              "  <tbody>\n",
              "    <tr>\n",
              "      <th>0</th>\n",
              "      <td>1790</td>\n",
              "      <td>3,929,214</td>\n",
              "      <td>$44,377</td>\n",
              "      <td>1.13 cents</td>\n",
              "    </tr>\n",
              "    <tr>\n",
              "      <th>1</th>\n",
              "      <td>1800</td>\n",
              "      <td>5,308,483</td>\n",
              "      <td>$66,109</td>\n",
              "      <td>1.24 cents</td>\n",
              "    </tr>\n",
              "    <tr>\n",
              "      <th>2</th>\n",
              "      <td>1810</td>\n",
              "      <td>7,239,881</td>\n",
              "      <td>$178,445</td>\n",
              "      <td>2.46 cents</td>\n",
              "    </tr>\n",
              "    <tr>\n",
              "      <th>3</th>\n",
              "      <td>1820</td>\n",
              "      <td>9,633,822</td>\n",
              "      <td>$208,526</td>\n",
              "      <td>2.16 cents</td>\n",
              "    </tr>\n",
              "    <tr>\n",
              "      <th>4</th>\n",
              "      <td>1830</td>\n",
              "      <td>12,866,020</td>\n",
              "      <td>$378,545</td>\n",
              "      <td>2.94 cents</td>\n",
              "    </tr>\n",
              "  </tbody>\n",
              "</table>\n",
              "</div>"
            ],
            "text/plain": [
              "  Census Year Total Population Census Cost Average Cost Per Person\n",
              "0        1790        3,929,214     $44,377              1.13 cents\n",
              "1        1800        5,308,483     $66,109              1.24 cents\n",
              "2        1810        7,239,881    $178,445              2.46 cents\n",
              "3        1820        9,633,822    $208,526              2.16 cents\n",
              "4        1830       12,866,020    $378,545              2.94 cents"
            ]
          },
          "metadata": {},
          "execution_count": 10
        }
      ]
    },
    {
      "cell_type": "code",
      "metadata": {
        "colab": {
          "base_uri": "https://localhost:8080/",
          "height": 206
        },
        "id": "uWEJHibaP5xG",
        "outputId": "a16dbbad-b01a-44e8-d84a-53be7f8b1b9a"
      },
      "source": [
        "df.tail()"
      ],
      "execution_count": 11,
      "outputs": [
        {
          "output_type": "execute_result",
          "data": {
            "text/html": [
              "<div>\n",
              "<style scoped>\n",
              "    .dataframe tbody tr th:only-of-type {\n",
              "        vertical-align: middle;\n",
              "    }\n",
              "\n",
              "    .dataframe tbody tr th {\n",
              "        vertical-align: top;\n",
              "    }\n",
              "\n",
              "    .dataframe thead th {\n",
              "        text-align: right;\n",
              "    }\n",
              "</style>\n",
              "<table border=\"1\" class=\"dataframe\">\n",
              "  <thead>\n",
              "    <tr style=\"text-align: right;\">\n",
              "      <th></th>\n",
              "      <th>Census Year</th>\n",
              "      <th>Total Population</th>\n",
              "      <th>Census Cost</th>\n",
              "      <th>Average Cost Per Person</th>\n",
              "    </tr>\n",
              "  </thead>\n",
              "  <tbody>\n",
              "    <tr>\n",
              "      <th>18</th>\n",
              "      <td>1970</td>\n",
              "      <td>203,302,031</td>\n",
              "      <td>$247,653,000</td>\n",
              "      <td>$1.22</td>\n",
              "    </tr>\n",
              "    <tr>\n",
              "      <th>19</th>\n",
              "      <td>1980</td>\n",
              "      <td>226,542,199</td>\n",
              "      <td>$1,078,488,000</td>\n",
              "      <td>$4.76</td>\n",
              "    </tr>\n",
              "    <tr>\n",
              "      <th>20</th>\n",
              "      <td>1990</td>\n",
              "      <td>248,718,301</td>\n",
              "      <td>$2,492,830,000</td>\n",
              "      <td>$10.02</td>\n",
              "    </tr>\n",
              "    <tr>\n",
              "      <th>21</th>\n",
              "      <td>2000</td>\n",
              "      <td>281,421,906</td>\n",
              "      <td>$4.5 Billion</td>\n",
              "      <td>$15.99</td>\n",
              "    </tr>\n",
              "    <tr>\n",
              "      <th>22</th>\n",
              "      <td>2010*</td>\n",
              "      <td>308,745,538</td>\n",
              "      <td>$13 Billion</td>\n",
              "      <td>$42.11</td>\n",
              "    </tr>\n",
              "  </tbody>\n",
              "</table>\n",
              "</div>"
            ],
            "text/plain": [
              "   Census Year Total Population     Census Cost Average Cost Per Person\n",
              "18        1970      203,302,031    $247,653,000                   $1.22\n",
              "19        1980      226,542,199  $1,078,488,000                   $4.76\n",
              "20        1990      248,718,301  $2,492,830,000                  $10.02\n",
              "21        2000      281,421,906    $4.5 Billion                  $15.99\n",
              "22       2010*      308,745,538     $13 Billion                  $42.11"
            ]
          },
          "metadata": {},
          "execution_count": 11
        }
      ]
    },
    {
      "cell_type": "code",
      "metadata": {
        "colab": {
          "base_uri": "https://localhost:8080/",
          "height": 143
        },
        "id": "aQF9tyYVQCHG",
        "outputId": "478c7eea-a7ff-45ee-bff8-d6ccba493052"
      },
      "source": [
        "df.tail(3)"
      ],
      "execution_count": 14,
      "outputs": [
        {
          "output_type": "execute_result",
          "data": {
            "text/html": [
              "<div>\n",
              "<style scoped>\n",
              "    .dataframe tbody tr th:only-of-type {\n",
              "        vertical-align: middle;\n",
              "    }\n",
              "\n",
              "    .dataframe tbody tr th {\n",
              "        vertical-align: top;\n",
              "    }\n",
              "\n",
              "    .dataframe thead th {\n",
              "        text-align: right;\n",
              "    }\n",
              "</style>\n",
              "<table border=\"1\" class=\"dataframe\">\n",
              "  <thead>\n",
              "    <tr style=\"text-align: right;\">\n",
              "      <th></th>\n",
              "      <th>Census Year</th>\n",
              "      <th>Total Population</th>\n",
              "      <th>Census Cost</th>\n",
              "      <th>Average Cost Per Person</th>\n",
              "    </tr>\n",
              "  </thead>\n",
              "  <tbody>\n",
              "    <tr>\n",
              "      <th>20</th>\n",
              "      <td>1990</td>\n",
              "      <td>248,718,301</td>\n",
              "      <td>$2,492,830,000</td>\n",
              "      <td>$10.02</td>\n",
              "    </tr>\n",
              "    <tr>\n",
              "      <th>21</th>\n",
              "      <td>2000</td>\n",
              "      <td>281,421,906</td>\n",
              "      <td>$4.5 Billion</td>\n",
              "      <td>$15.99</td>\n",
              "    </tr>\n",
              "    <tr>\n",
              "      <th>22</th>\n",
              "      <td>2010*</td>\n",
              "      <td>308,745,538</td>\n",
              "      <td>$13 Billion</td>\n",
              "      <td>$42.11</td>\n",
              "    </tr>\n",
              "  </tbody>\n",
              "</table>\n",
              "</div>"
            ],
            "text/plain": [
              "   Census Year Total Population     Census Cost Average Cost Per Person\n",
              "20        1990      248,718,301  $2,492,830,000                  $10.02\n",
              "21        2000      281,421,906    $4.5 Billion                  $15.99\n",
              "22       2010*      308,745,538     $13 Billion                  $42.11"
            ]
          },
          "metadata": {},
          "execution_count": 14
        }
      ]
    },
    {
      "cell_type": "code",
      "metadata": {
        "colab": {
          "base_uri": "https://localhost:8080/",
          "height": 81
        },
        "id": "C668NXnRP649",
        "outputId": "aa210f05-10e2-48d1-e907-88d2fa5d7e76"
      },
      "source": [
        "df.sample()"
      ],
      "execution_count": 15,
      "outputs": [
        {
          "output_type": "execute_result",
          "data": {
            "text/html": [
              "<div>\n",
              "<style scoped>\n",
              "    .dataframe tbody tr th:only-of-type {\n",
              "        vertical-align: middle;\n",
              "    }\n",
              "\n",
              "    .dataframe tbody tr th {\n",
              "        vertical-align: top;\n",
              "    }\n",
              "\n",
              "    .dataframe thead th {\n",
              "        text-align: right;\n",
              "    }\n",
              "</style>\n",
              "<table border=\"1\" class=\"dataframe\">\n",
              "  <thead>\n",
              "    <tr style=\"text-align: right;\">\n",
              "      <th></th>\n",
              "      <th>Census Year</th>\n",
              "      <th>Total Population</th>\n",
              "      <th>Census Cost</th>\n",
              "      <th>Average Cost Per Person</th>\n",
              "    </tr>\n",
              "  </thead>\n",
              "  <tbody>\n",
              "    <tr>\n",
              "      <th>17</th>\n",
              "      <td>1960</td>\n",
              "      <td>179,323,175</td>\n",
              "      <td>$127,934,000</td>\n",
              "      <td>71.34 cents</td>\n",
              "    </tr>\n",
              "  </tbody>\n",
              "</table>\n",
              "</div>"
            ],
            "text/plain": [
              "   Census Year Total Population   Census Cost Average Cost Per Person\n",
              "17        1960      179,323,175  $127,934,000             71.34 cents"
            ]
          },
          "metadata": {},
          "execution_count": 15
        }
      ]
    },
    {
      "cell_type": "code",
      "metadata": {
        "colab": {
          "base_uri": "https://localhost:8080/",
          "height": 206
        },
        "id": "Mi98AGwsP9vW",
        "outputId": "1de04739-cbf3-48bd-b9c1-e72354bbaab2"
      },
      "source": [
        "df.sample(5)"
      ],
      "execution_count": 16,
      "outputs": [
        {
          "output_type": "execute_result",
          "data": {
            "text/html": [
              "<div>\n",
              "<style scoped>\n",
              "    .dataframe tbody tr th:only-of-type {\n",
              "        vertical-align: middle;\n",
              "    }\n",
              "\n",
              "    .dataframe tbody tr th {\n",
              "        vertical-align: top;\n",
              "    }\n",
              "\n",
              "    .dataframe thead th {\n",
              "        text-align: right;\n",
              "    }\n",
              "</style>\n",
              "<table border=\"1\" class=\"dataframe\">\n",
              "  <thead>\n",
              "    <tr style=\"text-align: right;\">\n",
              "      <th></th>\n",
              "      <th>Census Year</th>\n",
              "      <th>Total Population</th>\n",
              "      <th>Census Cost</th>\n",
              "      <th>Average Cost Per Person</th>\n",
              "    </tr>\n",
              "  </thead>\n",
              "  <tbody>\n",
              "    <tr>\n",
              "      <th>19</th>\n",
              "      <td>1980</td>\n",
              "      <td>226,542,199</td>\n",
              "      <td>$1,078,488,000</td>\n",
              "      <td>$4.76</td>\n",
              "    </tr>\n",
              "    <tr>\n",
              "      <th>4</th>\n",
              "      <td>1830</td>\n",
              "      <td>12,866,020</td>\n",
              "      <td>$378,545</td>\n",
              "      <td>2.94 cents</td>\n",
              "    </tr>\n",
              "    <tr>\n",
              "      <th>22</th>\n",
              "      <td>2010*</td>\n",
              "      <td>308,745,538</td>\n",
              "      <td>$13 Billion</td>\n",
              "      <td>$42.11</td>\n",
              "    </tr>\n",
              "    <tr>\n",
              "      <th>20</th>\n",
              "      <td>1990</td>\n",
              "      <td>248,718,301</td>\n",
              "      <td>$2,492,830,000</td>\n",
              "      <td>$10.02</td>\n",
              "    </tr>\n",
              "    <tr>\n",
              "      <th>17</th>\n",
              "      <td>1960</td>\n",
              "      <td>179,323,175</td>\n",
              "      <td>$127,934,000</td>\n",
              "      <td>71.34 cents</td>\n",
              "    </tr>\n",
              "  </tbody>\n",
              "</table>\n",
              "</div>"
            ],
            "text/plain": [
              "   Census Year Total Population     Census Cost Average Cost Per Person\n",
              "19        1980      226,542,199  $1,078,488,000                   $4.76\n",
              "4         1830       12,866,020        $378,545              2.94 cents\n",
              "22       2010*      308,745,538     $13 Billion                  $42.11\n",
              "20        1990      248,718,301  $2,492,830,000                  $10.02\n",
              "17        1960      179,323,175    $127,934,000             71.34 cents"
            ]
          },
          "metadata": {},
          "execution_count": 16
        }
      ]
    },
    {
      "cell_type": "code",
      "metadata": {
        "colab": {
          "base_uri": "https://localhost:8080/"
        },
        "id": "9JQy5etOQFcf",
        "outputId": "6f590084-adea-4fc3-95fb-bbdfcc0b257a"
      },
      "source": [
        "df.info()"
      ],
      "execution_count": 18,
      "outputs": [
        {
          "output_type": "stream",
          "name": "stdout",
          "text": [
            "<class 'pandas.core.frame.DataFrame'>\n",
            "RangeIndex: 23 entries, 0 to 22\n",
            "Data columns (total 4 columns):\n",
            " #   Column                   Non-Null Count  Dtype \n",
            "---  ------                   --------------  ----- \n",
            " 0   Census Year              23 non-null     object\n",
            " 1   Total Population         23 non-null     object\n",
            " 2   Census Cost              23 non-null     object\n",
            " 3   Average Cost Per Person  23 non-null     object\n",
            "dtypes: object(4)\n",
            "memory usage: 864.0+ bytes\n"
          ]
        }
      ]
    },
    {
      "cell_type": "code",
      "metadata": {
        "colab": {
          "base_uri": "https://localhost:8080/",
          "height": 175
        },
        "id": "CfUmSJ58QPQ_",
        "outputId": "bf357aac-9172-4090-efa0-24dceb43b38d"
      },
      "source": [
        "df.describe()"
      ],
      "execution_count": 19,
      "outputs": [
        {
          "output_type": "execute_result",
          "data": {
            "text/html": [
              "<div>\n",
              "<style scoped>\n",
              "    .dataframe tbody tr th:only-of-type {\n",
              "        vertical-align: middle;\n",
              "    }\n",
              "\n",
              "    .dataframe tbody tr th {\n",
              "        vertical-align: top;\n",
              "    }\n",
              "\n",
              "    .dataframe thead th {\n",
              "        text-align: right;\n",
              "    }\n",
              "</style>\n",
              "<table border=\"1\" class=\"dataframe\">\n",
              "  <thead>\n",
              "    <tr style=\"text-align: right;\">\n",
              "      <th></th>\n",
              "      <th>Census Year</th>\n",
              "      <th>Total Population</th>\n",
              "      <th>Census Cost</th>\n",
              "      <th>Average Cost Per Person</th>\n",
              "    </tr>\n",
              "  </thead>\n",
              "  <tbody>\n",
              "    <tr>\n",
              "      <th>count</th>\n",
              "      <td>23</td>\n",
              "      <td>23</td>\n",
              "      <td>23</td>\n",
              "      <td>23</td>\n",
              "    </tr>\n",
              "    <tr>\n",
              "      <th>unique</th>\n",
              "      <td>23</td>\n",
              "      <td>23</td>\n",
              "      <td>23</td>\n",
              "      <td>23</td>\n",
              "    </tr>\n",
              "    <tr>\n",
              "      <th>top</th>\n",
              "      <td>1850</td>\n",
              "      <td>9,633,822</td>\n",
              "      <td>$11,547,127</td>\n",
              "      <td>18.33 cents</td>\n",
              "    </tr>\n",
              "    <tr>\n",
              "      <th>freq</th>\n",
              "      <td>1</td>\n",
              "      <td>1</td>\n",
              "      <td>1</td>\n",
              "      <td>1</td>\n",
              "    </tr>\n",
              "  </tbody>\n",
              "</table>\n",
              "</div>"
            ],
            "text/plain": [
              "       Census Year Total Population  Census Cost Average Cost Per Person\n",
              "count           23               23           23                      23\n",
              "unique          23               23           23                      23\n",
              "top           1850        9,633,822  $11,547,127             18.33 cents\n",
              "freq             1                1            1                       1"
            ]
          },
          "metadata": {},
          "execution_count": 19
        }
      ]
    },
    {
      "cell_type": "code",
      "metadata": {
        "colab": {
          "base_uri": "https://localhost:8080/"
        },
        "id": "NaAwdfXPQ570",
        "outputId": "2fb8c151-b4c8-4dc3-d103-b38b08f26bdc"
      },
      "source": [
        "x = \"9,633,822\"\n",
        "print(type(x))"
      ],
      "execution_count": 23,
      "outputs": [
        {
          "output_type": "stream",
          "name": "stdout",
          "text": [
            "<class 'str'>\n"
          ]
        }
      ]
    },
    {
      "cell_type": "code",
      "metadata": {
        "colab": {
          "base_uri": "https://localhost:8080/"
        },
        "id": "07rYdSxARvA1",
        "outputId": "a4e9bcd3-dc52-4fa2-d0c5-fd5c308b3f6b"
      },
      "source": [
        "y = \"9,633,822\"\n",
        "\n",
        "z = y.replace(\",\", \"\")\n",
        "\n",
        "print(z)\n",
        "print(type(z))"
      ],
      "execution_count": 27,
      "outputs": [
        {
          "output_type": "stream",
          "name": "stdout",
          "text": [
            "9633822\n",
            "<class 'str'>\n"
          ]
        }
      ]
    },
    {
      "cell_type": "code",
      "metadata": {
        "colab": {
          "base_uri": "https://localhost:8080/"
        },
        "id": "S3paSVe2R_Av",
        "outputId": "c0a1a271-9623-4d62-c125-e792a0b3a4e0"
      },
      "source": [
        "type(int(z))"
      ],
      "execution_count": 28,
      "outputs": [
        {
          "output_type": "execute_result",
          "data": {
            "text/plain": [
              "int"
            ]
          },
          "metadata": {},
          "execution_count": 28
        }
      ]
    },
    {
      "cell_type": "code",
      "metadata": {
        "colab": {
          "base_uri": "https://localhost:8080/"
        },
        "id": "ko_hTQcrSEox",
        "outputId": "073eadb7-9142-4e94-c74f-272d15e6764e"
      },
      "source": [
        "df[\"Total Population\"]"
      ],
      "execution_count": 29,
      "outputs": [
        {
          "output_type": "execute_result",
          "data": {
            "text/plain": [
              "0       3,929,214\n",
              "1       5,308,483\n",
              "2       7,239,881\n",
              "3       9,633,822\n",
              "4      12,866,020\n",
              "5      17,069,458\n",
              "6      23,191,876\n",
              "7      31,443,321\n",
              "8      38,558,371\n",
              "9      50,155,783\n",
              "10     62,979,766\n",
              "11     76,303,387\n",
              "12     91,972,266\n",
              "13    105,710,620\n",
              "14    122,775,046\n",
              "15    131,669,275\n",
              "16    151,325,798\n",
              "17    179,323,175\n",
              "18    203,302,031\n",
              "19    226,542,199\n",
              "20    248,718,301\n",
              "21    281,421,906\n",
              "22    308,745,538\n",
              "Name: Total Population, dtype: object"
            ]
          },
          "metadata": {},
          "execution_count": 29
        }
      ]
    },
    {
      "cell_type": "code",
      "metadata": {
        "colab": {
          "base_uri": "https://localhost:8080/",
          "height": 770
        },
        "id": "MjysdwdpSi3v",
        "outputId": "45fb741f-6cc9-48e2-86bc-6ad5880bfc24"
      },
      "source": [
        "df[[\"Census Year\" ,\"Total Population\"]]"
      ],
      "execution_count": 30,
      "outputs": [
        {
          "output_type": "execute_result",
          "data": {
            "text/html": [
              "<div>\n",
              "<style scoped>\n",
              "    .dataframe tbody tr th:only-of-type {\n",
              "        vertical-align: middle;\n",
              "    }\n",
              "\n",
              "    .dataframe tbody tr th {\n",
              "        vertical-align: top;\n",
              "    }\n",
              "\n",
              "    .dataframe thead th {\n",
              "        text-align: right;\n",
              "    }\n",
              "</style>\n",
              "<table border=\"1\" class=\"dataframe\">\n",
              "  <thead>\n",
              "    <tr style=\"text-align: right;\">\n",
              "      <th></th>\n",
              "      <th>Census Year</th>\n",
              "      <th>Total Population</th>\n",
              "    </tr>\n",
              "  </thead>\n",
              "  <tbody>\n",
              "    <tr>\n",
              "      <th>0</th>\n",
              "      <td>1790</td>\n",
              "      <td>3,929,214</td>\n",
              "    </tr>\n",
              "    <tr>\n",
              "      <th>1</th>\n",
              "      <td>1800</td>\n",
              "      <td>5,308,483</td>\n",
              "    </tr>\n",
              "    <tr>\n",
              "      <th>2</th>\n",
              "      <td>1810</td>\n",
              "      <td>7,239,881</td>\n",
              "    </tr>\n",
              "    <tr>\n",
              "      <th>3</th>\n",
              "      <td>1820</td>\n",
              "      <td>9,633,822</td>\n",
              "    </tr>\n",
              "    <tr>\n",
              "      <th>4</th>\n",
              "      <td>1830</td>\n",
              "      <td>12,866,020</td>\n",
              "    </tr>\n",
              "    <tr>\n",
              "      <th>5</th>\n",
              "      <td>1840</td>\n",
              "      <td>17,069,458</td>\n",
              "    </tr>\n",
              "    <tr>\n",
              "      <th>6</th>\n",
              "      <td>1850</td>\n",
              "      <td>23,191,876</td>\n",
              "    </tr>\n",
              "    <tr>\n",
              "      <th>7</th>\n",
              "      <td>1860</td>\n",
              "      <td>31,443,321</td>\n",
              "    </tr>\n",
              "    <tr>\n",
              "      <th>8</th>\n",
              "      <td>1870</td>\n",
              "      <td>38,558,371</td>\n",
              "    </tr>\n",
              "    <tr>\n",
              "      <th>9</th>\n",
              "      <td>1880</td>\n",
              "      <td>50,155,783</td>\n",
              "    </tr>\n",
              "    <tr>\n",
              "      <th>10</th>\n",
              "      <td>1890</td>\n",
              "      <td>62,979,766</td>\n",
              "    </tr>\n",
              "    <tr>\n",
              "      <th>11</th>\n",
              "      <td>1900</td>\n",
              "      <td>76,303,387</td>\n",
              "    </tr>\n",
              "    <tr>\n",
              "      <th>12</th>\n",
              "      <td>1910</td>\n",
              "      <td>91,972,266</td>\n",
              "    </tr>\n",
              "    <tr>\n",
              "      <th>13</th>\n",
              "      <td>1920</td>\n",
              "      <td>105,710,620</td>\n",
              "    </tr>\n",
              "    <tr>\n",
              "      <th>14</th>\n",
              "      <td>1930</td>\n",
              "      <td>122,775,046</td>\n",
              "    </tr>\n",
              "    <tr>\n",
              "      <th>15</th>\n",
              "      <td>1940</td>\n",
              "      <td>131,669,275</td>\n",
              "    </tr>\n",
              "    <tr>\n",
              "      <th>16</th>\n",
              "      <td>1950</td>\n",
              "      <td>151,325,798</td>\n",
              "    </tr>\n",
              "    <tr>\n",
              "      <th>17</th>\n",
              "      <td>1960</td>\n",
              "      <td>179,323,175</td>\n",
              "    </tr>\n",
              "    <tr>\n",
              "      <th>18</th>\n",
              "      <td>1970</td>\n",
              "      <td>203,302,031</td>\n",
              "    </tr>\n",
              "    <tr>\n",
              "      <th>19</th>\n",
              "      <td>1980</td>\n",
              "      <td>226,542,199</td>\n",
              "    </tr>\n",
              "    <tr>\n",
              "      <th>20</th>\n",
              "      <td>1990</td>\n",
              "      <td>248,718,301</td>\n",
              "    </tr>\n",
              "    <tr>\n",
              "      <th>21</th>\n",
              "      <td>2000</td>\n",
              "      <td>281,421,906</td>\n",
              "    </tr>\n",
              "    <tr>\n",
              "      <th>22</th>\n",
              "      <td>2010*</td>\n",
              "      <td>308,745,538</td>\n",
              "    </tr>\n",
              "  </tbody>\n",
              "</table>\n",
              "</div>"
            ],
            "text/plain": [
              "   Census Year Total Population\n",
              "0         1790        3,929,214\n",
              "1         1800        5,308,483\n",
              "2         1810        7,239,881\n",
              "3         1820        9,633,822\n",
              "4         1830       12,866,020\n",
              "5         1840       17,069,458\n",
              "6         1850       23,191,876\n",
              "7         1860       31,443,321\n",
              "8         1870       38,558,371\n",
              "9         1880       50,155,783\n",
              "10        1890       62,979,766\n",
              "11        1900       76,303,387\n",
              "12        1910       91,972,266\n",
              "13        1920      105,710,620\n",
              "14        1930      122,775,046\n",
              "15        1940      131,669,275\n",
              "16        1950      151,325,798\n",
              "17        1960      179,323,175\n",
              "18        1970      203,302,031\n",
              "19        1980      226,542,199\n",
              "20        1990      248,718,301\n",
              "21        2000      281,421,906\n",
              "22       2010*      308,745,538"
            ]
          },
          "metadata": {},
          "execution_count": 30
        }
      ]
    },
    {
      "cell_type": "code",
      "metadata": {
        "colab": {
          "base_uri": "https://localhost:8080/"
        },
        "id": "VQkaNj5XSvjI",
        "outputId": "981b7f07-9d51-423d-a88e-306194f3071e"
      },
      "source": [
        "# There is difference b/w series and data frame.\n",
        "# df[\"Total Population\"] return a series which has a tolist() function\n",
        "# df[[\"Total Population\"]] return a data frame which has no tolist() function\n",
        "\n",
        "pop_list = df[\"Total Population\"].tolist()\n",
        "pop_list"
      ],
      "execution_count": 32,
      "outputs": [
        {
          "output_type": "execute_result",
          "data": {
            "text/plain": [
              "['3,929,214',\n",
              " '5,308,483',\n",
              " '7,239,881',\n",
              " '9,633,822',\n",
              " '12,866,020',\n",
              " '17,069,458',\n",
              " '23,191,876',\n",
              " '31,443,321',\n",
              " '38,558,371',\n",
              " '50,155,783',\n",
              " '62,979,766',\n",
              " '76,303,387',\n",
              " '91,972,266',\n",
              " '105,710,620',\n",
              " '122,775,046',\n",
              " '131,669,275',\n",
              " '151,325,798',\n",
              " '179,323,175',\n",
              " '203,302,031',\n",
              " '226,542,199',\n",
              " '248,718,301',\n",
              " '281,421,906',\n",
              " '308,745,538']"
            ]
          },
          "metadata": {},
          "execution_count": 32
        }
      ]
    },
    {
      "cell_type": "code",
      "metadata": {
        "colab": {
          "base_uri": "https://localhost:8080/"
        },
        "id": "NUErXa6HTjB_",
        "outputId": "37af6e8c-5725-4445-ae78-22040b834e90"
      },
      "source": [
        "pop_list2 = [int(pop.replace(\",\", \"\")) for pop in pop_list]\n",
        "pop_list2"
      ],
      "execution_count": 35,
      "outputs": [
        {
          "output_type": "execute_result",
          "data": {
            "text/plain": [
              "[3929214,\n",
              " 5308483,\n",
              " 7239881,\n",
              " 9633822,\n",
              " 12866020,\n",
              " 17069458,\n",
              " 23191876,\n",
              " 31443321,\n",
              " 38558371,\n",
              " 50155783,\n",
              " 62979766,\n",
              " 76303387,\n",
              " 91972266,\n",
              " 105710620,\n",
              " 122775046,\n",
              " 131669275,\n",
              " 151325798,\n",
              " 179323175,\n",
              " 203302031,\n",
              " 226542199,\n",
              " 248718301,\n",
              " 281421906,\n",
              " 308745538]"
            ]
          },
          "metadata": {},
          "execution_count": 35
        }
      ]
    },
    {
      "cell_type": "code",
      "metadata": {
        "id": "V8vJdqU8UFCF"
      },
      "source": [
        "# Function to convert a string of numbers seperated by commas into a integer\n",
        "\n",
        "def cleanse_pop(a_str):\n",
        "    return int(a_str.replace(\",\", \"\"))"
      ],
      "execution_count": 39,
      "outputs": []
    },
    {
      "cell_type": "code",
      "metadata": {
        "colab": {
          "base_uri": "https://localhost:8080/"
        },
        "id": "vM1_xSjYUZnp",
        "outputId": "629b7da2-7a48-457e-d4c5-1a27fcdc39cf"
      },
      "source": [
        "cleanse_pop(\"12,34,5\")"
      ],
      "execution_count": 40,
      "outputs": [
        {
          "output_type": "execute_result",
          "data": {
            "text/plain": [
              "12345"
            ]
          },
          "metadata": {},
          "execution_count": 40
        }
      ]
    },
    {
      "cell_type": "code",
      "metadata": {
        "id": "lAdkCVnpU3r7"
      },
      "source": [
        "df[\"tot_pop\"] = df[\"Total Population\"].apply(cleanse_pop)"
      ],
      "execution_count": 41,
      "outputs": []
    },
    {
      "cell_type": "code",
      "metadata": {
        "colab": {
          "base_uri": "https://localhost:8080/",
          "height": 206
        },
        "id": "TFZDVNVMVpAG",
        "outputId": "9c7b59f1-cfc3-4a63-901c-1d2393aa1037"
      },
      "source": [
        "df.head()"
      ],
      "execution_count": 44,
      "outputs": [
        {
          "output_type": "execute_result",
          "data": {
            "text/html": [
              "<div>\n",
              "<style scoped>\n",
              "    .dataframe tbody tr th:only-of-type {\n",
              "        vertical-align: middle;\n",
              "    }\n",
              "\n",
              "    .dataframe tbody tr th {\n",
              "        vertical-align: top;\n",
              "    }\n",
              "\n",
              "    .dataframe thead th {\n",
              "        text-align: right;\n",
              "    }\n",
              "</style>\n",
              "<table border=\"1\" class=\"dataframe\">\n",
              "  <thead>\n",
              "    <tr style=\"text-align: right;\">\n",
              "      <th></th>\n",
              "      <th>Census Year</th>\n",
              "      <th>Total Population</th>\n",
              "      <th>Census Cost</th>\n",
              "      <th>Average Cost Per Person</th>\n",
              "      <th>tot_pop</th>\n",
              "    </tr>\n",
              "  </thead>\n",
              "  <tbody>\n",
              "    <tr>\n",
              "      <th>0</th>\n",
              "      <td>1790</td>\n",
              "      <td>3,929,214</td>\n",
              "      <td>$44,377</td>\n",
              "      <td>1.13 cents</td>\n",
              "      <td>3929214</td>\n",
              "    </tr>\n",
              "    <tr>\n",
              "      <th>1</th>\n",
              "      <td>1800</td>\n",
              "      <td>5,308,483</td>\n",
              "      <td>$66,109</td>\n",
              "      <td>1.24 cents</td>\n",
              "      <td>5308483</td>\n",
              "    </tr>\n",
              "    <tr>\n",
              "      <th>2</th>\n",
              "      <td>1810</td>\n",
              "      <td>7,239,881</td>\n",
              "      <td>$178,445</td>\n",
              "      <td>2.46 cents</td>\n",
              "      <td>7239881</td>\n",
              "    </tr>\n",
              "    <tr>\n",
              "      <th>3</th>\n",
              "      <td>1820</td>\n",
              "      <td>9,633,822</td>\n",
              "      <td>$208,526</td>\n",
              "      <td>2.16 cents</td>\n",
              "      <td>9633822</td>\n",
              "    </tr>\n",
              "    <tr>\n",
              "      <th>4</th>\n",
              "      <td>1830</td>\n",
              "      <td>12,866,020</td>\n",
              "      <td>$378,545</td>\n",
              "      <td>2.94 cents</td>\n",
              "      <td>12866020</td>\n",
              "    </tr>\n",
              "  </tbody>\n",
              "</table>\n",
              "</div>"
            ],
            "text/plain": [
              "  Census Year Total Population Census Cost Average Cost Per Person   tot_pop\n",
              "0        1790        3,929,214     $44,377              1.13 cents   3929214\n",
              "1        1800        5,308,483     $66,109              1.24 cents   5308483\n",
              "2        1810        7,239,881    $178,445              2.46 cents   7239881\n",
              "3        1820        9,633,822    $208,526              2.16 cents   9633822\n",
              "4        1830       12,866,020    $378,545              2.94 cents  12866020"
            ]
          },
          "metadata": {},
          "execution_count": 44
        }
      ]
    },
    {
      "cell_type": "code",
      "metadata": {
        "colab": {
          "base_uri": "https://localhost:8080/"
        },
        "id": "fwkgl1hTV0g0",
        "outputId": "66782df5-1845-4cce-80e6-6d5216620bb3"
      },
      "source": [
        "df.info()"
      ],
      "execution_count": 45,
      "outputs": [
        {
          "output_type": "stream",
          "name": "stdout",
          "text": [
            "<class 'pandas.core.frame.DataFrame'>\n",
            "RangeIndex: 23 entries, 0 to 22\n",
            "Data columns (total 5 columns):\n",
            " #   Column                   Non-Null Count  Dtype \n",
            "---  ------                   --------------  ----- \n",
            " 0   Census Year              23 non-null     object\n",
            " 1   Total Population         23 non-null     object\n",
            " 2   Census Cost              23 non-null     object\n",
            " 3   Average Cost Per Person  23 non-null     object\n",
            " 4   tot_pop                  23 non-null     int64 \n",
            "dtypes: int64(1), object(4)\n",
            "memory usage: 1.0+ KB\n"
          ]
        }
      ]
    },
    {
      "cell_type": "code",
      "metadata": {
        "colab": {
          "base_uri": "https://localhost:8080/",
          "height": 300
        },
        "id": "-Ni_SLVjWHUo",
        "outputId": "f4c5688b-a4f7-40e2-a723-a1b81072a6ce"
      },
      "source": [
        "df.describe()"
      ],
      "execution_count": 46,
      "outputs": [
        {
          "output_type": "execute_result",
          "data": {
            "text/html": [
              "<div>\n",
              "<style scoped>\n",
              "    .dataframe tbody tr th:only-of-type {\n",
              "        vertical-align: middle;\n",
              "    }\n",
              "\n",
              "    .dataframe tbody tr th {\n",
              "        vertical-align: top;\n",
              "    }\n",
              "\n",
              "    .dataframe thead th {\n",
              "        text-align: right;\n",
              "    }\n",
              "</style>\n",
              "<table border=\"1\" class=\"dataframe\">\n",
              "  <thead>\n",
              "    <tr style=\"text-align: right;\">\n",
              "      <th></th>\n",
              "      <th>tot_pop</th>\n",
              "    </tr>\n",
              "  </thead>\n",
              "  <tbody>\n",
              "    <tr>\n",
              "      <th>count</th>\n",
              "      <td>2.300000e+01</td>\n",
              "    </tr>\n",
              "    <tr>\n",
              "      <th>mean</th>\n",
              "      <td>1.039211e+08</td>\n",
              "    </tr>\n",
              "    <tr>\n",
              "      <th>std</th>\n",
              "      <td>9.622629e+07</td>\n",
              "    </tr>\n",
              "    <tr>\n",
              "      <th>min</th>\n",
              "      <td>3.929214e+06</td>\n",
              "    </tr>\n",
              "    <tr>\n",
              "      <th>25%</th>\n",
              "      <td>2.013067e+07</td>\n",
              "    </tr>\n",
              "    <tr>\n",
              "      <th>50%</th>\n",
              "      <td>7.630339e+07</td>\n",
              "    </tr>\n",
              "    <tr>\n",
              "      <th>75%</th>\n",
              "      <td>1.653245e+08</td>\n",
              "    </tr>\n",
              "    <tr>\n",
              "      <th>max</th>\n",
              "      <td>3.087455e+08</td>\n",
              "    </tr>\n",
              "  </tbody>\n",
              "</table>\n",
              "</div>"
            ],
            "text/plain": [
              "            tot_pop\n",
              "count  2.300000e+01\n",
              "mean   1.039211e+08\n",
              "std    9.622629e+07\n",
              "min    3.929214e+06\n",
              "25%    2.013067e+07\n",
              "50%    7.630339e+07\n",
              "75%    1.653245e+08\n",
              "max    3.087455e+08"
            ]
          },
          "metadata": {},
          "execution_count": 46
        }
      ]
    },
    {
      "cell_type": "code",
      "metadata": {
        "colab": {
          "base_uri": "https://localhost:8080/",
          "height": 394
        },
        "id": "qEA-WseXWLgi",
        "outputId": "43af436e-7f58-4bcd-d90f-b4de8ba7548b"
      },
      "source": [
        "df.describe(include = \"all\")"
      ],
      "execution_count": 47,
      "outputs": [
        {
          "output_type": "execute_result",
          "data": {
            "text/html": [
              "<div>\n",
              "<style scoped>\n",
              "    .dataframe tbody tr th:only-of-type {\n",
              "        vertical-align: middle;\n",
              "    }\n",
              "\n",
              "    .dataframe tbody tr th {\n",
              "        vertical-align: top;\n",
              "    }\n",
              "\n",
              "    .dataframe thead th {\n",
              "        text-align: right;\n",
              "    }\n",
              "</style>\n",
              "<table border=\"1\" class=\"dataframe\">\n",
              "  <thead>\n",
              "    <tr style=\"text-align: right;\">\n",
              "      <th></th>\n",
              "      <th>Census Year</th>\n",
              "      <th>Total Population</th>\n",
              "      <th>Census Cost</th>\n",
              "      <th>Average Cost Per Person</th>\n",
              "      <th>tot_pop</th>\n",
              "    </tr>\n",
              "  </thead>\n",
              "  <tbody>\n",
              "    <tr>\n",
              "      <th>count</th>\n",
              "      <td>23</td>\n",
              "      <td>23</td>\n",
              "      <td>23</td>\n",
              "      <td>23</td>\n",
              "      <td>2.300000e+01</td>\n",
              "    </tr>\n",
              "    <tr>\n",
              "      <th>unique</th>\n",
              "      <td>23</td>\n",
              "      <td>23</td>\n",
              "      <td>23</td>\n",
              "      <td>23</td>\n",
              "      <td>NaN</td>\n",
              "    </tr>\n",
              "    <tr>\n",
              "      <th>top</th>\n",
              "      <td>1850</td>\n",
              "      <td>9,633,822</td>\n",
              "      <td>$11,547,127</td>\n",
              "      <td>18.33 cents</td>\n",
              "      <td>NaN</td>\n",
              "    </tr>\n",
              "    <tr>\n",
              "      <th>freq</th>\n",
              "      <td>1</td>\n",
              "      <td>1</td>\n",
              "      <td>1</td>\n",
              "      <td>1</td>\n",
              "      <td>NaN</td>\n",
              "    </tr>\n",
              "    <tr>\n",
              "      <th>mean</th>\n",
              "      <td>NaN</td>\n",
              "      <td>NaN</td>\n",
              "      <td>NaN</td>\n",
              "      <td>NaN</td>\n",
              "      <td>1.039211e+08</td>\n",
              "    </tr>\n",
              "    <tr>\n",
              "      <th>std</th>\n",
              "      <td>NaN</td>\n",
              "      <td>NaN</td>\n",
              "      <td>NaN</td>\n",
              "      <td>NaN</td>\n",
              "      <td>9.622629e+07</td>\n",
              "    </tr>\n",
              "    <tr>\n",
              "      <th>min</th>\n",
              "      <td>NaN</td>\n",
              "      <td>NaN</td>\n",
              "      <td>NaN</td>\n",
              "      <td>NaN</td>\n",
              "      <td>3.929214e+06</td>\n",
              "    </tr>\n",
              "    <tr>\n",
              "      <th>25%</th>\n",
              "      <td>NaN</td>\n",
              "      <td>NaN</td>\n",
              "      <td>NaN</td>\n",
              "      <td>NaN</td>\n",
              "      <td>2.013067e+07</td>\n",
              "    </tr>\n",
              "    <tr>\n",
              "      <th>50%</th>\n",
              "      <td>NaN</td>\n",
              "      <td>NaN</td>\n",
              "      <td>NaN</td>\n",
              "      <td>NaN</td>\n",
              "      <td>7.630339e+07</td>\n",
              "    </tr>\n",
              "    <tr>\n",
              "      <th>75%</th>\n",
              "      <td>NaN</td>\n",
              "      <td>NaN</td>\n",
              "      <td>NaN</td>\n",
              "      <td>NaN</td>\n",
              "      <td>1.653245e+08</td>\n",
              "    </tr>\n",
              "    <tr>\n",
              "      <th>max</th>\n",
              "      <td>NaN</td>\n",
              "      <td>NaN</td>\n",
              "      <td>NaN</td>\n",
              "      <td>NaN</td>\n",
              "      <td>3.087455e+08</td>\n",
              "    </tr>\n",
              "  </tbody>\n",
              "</table>\n",
              "</div>"
            ],
            "text/plain": [
              "       Census Year Total Population  ... Average Cost Per Person       tot_pop\n",
              "count           23               23  ...                      23  2.300000e+01\n",
              "unique          23               23  ...                      23           NaN\n",
              "top           1850        9,633,822  ...             18.33 cents           NaN\n",
              "freq             1                1  ...                       1           NaN\n",
              "mean           NaN              NaN  ...                     NaN  1.039211e+08\n",
              "std            NaN              NaN  ...                     NaN  9.622629e+07\n",
              "min            NaN              NaN  ...                     NaN  3.929214e+06\n",
              "25%            NaN              NaN  ...                     NaN  2.013067e+07\n",
              "50%            NaN              NaN  ...                     NaN  7.630339e+07\n",
              "75%            NaN              NaN  ...                     NaN  1.653245e+08\n",
              "max            NaN              NaN  ...                     NaN  3.087455e+08\n",
              "\n",
              "[11 rows x 5 columns]"
            ]
          },
          "metadata": {},
          "execution_count": 47
        }
      ]
    },
    {
      "cell_type": "code",
      "metadata": {
        "id": "C5vBnBE9WbKQ"
      },
      "source": [
        ""
      ],
      "execution_count": null,
      "outputs": []
    }
  ]
}