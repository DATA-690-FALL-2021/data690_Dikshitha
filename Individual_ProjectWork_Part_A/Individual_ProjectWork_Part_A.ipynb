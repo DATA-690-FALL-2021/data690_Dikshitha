{
  "nbformat": 4,
  "nbformat_minor": 0,
  "metadata": {
    "colab": {
      "name": "Individual_ProjectWork_Part_A.ipynb",
      "provenance": [],
      "include_colab_link": true
    },
    "kernelspec": {
      "name": "python3",
      "display_name": "Python 3"
    },
    "language_info": {
      "name": "python"
    }
  },
  "cells": [
    {
      "cell_type": "markdown",
      "metadata": {
        "id": "view-in-github",
        "colab_type": "text"
      },
      "source": [
        "<a href=\"https://colab.research.google.com/github/dkavali/data690_Dikshitha/blob/main/Individual_ProjectWork_Part_A/Individual_ProjectWork_Part_A.ipynb\" target=\"_parent\"><img src=\"https://colab.research.google.com/assets/colab-badge.svg\" alt=\"Open In Colab\"/></a>"
      ]
    },
    {
      "cell_type": "markdown",
      "metadata": {
        "id": "lDBmmgnvWQQk"
      },
      "source": [
        "# Financial Sector - Stocks Traded\n",
        "\n",
        "### Stocks Traded Across the years 1980 to 2020 for below countries.\n",
        "\n",
        "# Countries Included.\n",
        "1. INDIA\n",
        "2. USA (United States of America)\n",
        "3. CHINA\n",
        "4. UK (United Kingdom)\n",
        "5. AFGANISTAN\n",
        "6. CANADA\n",
        "7. JAPAN\n",
        "8. FRANCE\n",
        "\n",
        "\n",
        "- Name : Dikshitha Kavali\n",
        "- Professor : Jay Wang\n"
      ]
    },
    {
      "cell_type": "markdown",
      "metadata": {
        "id": "gFk3jCVJCDX1"
      },
      "source": [
        "### Why this Topic?\n",
        "- I am interested in Stocks and would like to experiment different scenarios using the real time data. \n",
        "\n",
        "### Stock: \n",
        "- The shares are collectively known as \"stock\". A single share of the stock represents fractional ownership of the corporation in proportion to the total number of shares."
      ]
    },
    {
      "cell_type": "markdown",
      "metadata": {
        "id": "m-OzC3qZGXfD"
      },
      "source": [
        ""
      ]
    }
  ]
}