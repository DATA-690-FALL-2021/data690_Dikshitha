{
  "nbformat": 4,
  "nbformat_minor": 0,
  "metadata": {
    "colab": {
      "name": "Untitled0.ipynb",
      "provenance": [],
      "authorship_tag": "ABX9TyOeMQ8QEc2CnBWi12iOyN6s",
      "include_colab_link": true
    },
    "kernelspec": {
      "name": "python3",
      "display_name": "Python 3"
    },
    "language_info": {
      "name": "python"
    }
  },
  "cells": [
    {
      "cell_type": "markdown",
      "metadata": {
        "id": "view-in-github",
        "colab_type": "text"
      },
      "source": [
        "<a href=\"https://colab.research.google.com/github/dkavali/data690_Dikshitha/blob/main/assignment_02/In-session_Hands-on.ipynb\" target=\"_parent\"><img src=\"https://colab.research.google.com/assets/colab-badge.svg\" alt=\"Open In Colab\"/></a>"
      ]
    },
    {
      "cell_type": "markdown",
      "metadata": {
        "id": "Ylxs6tuP_HhT"
      },
      "source": [
        "#In-Session Hands-on Practice\n",
        "\n",
        "Dikshitha Kavali"
      ]
    },
    {
      "cell_type": "markdown",
      "metadata": {
        "id": "fyjmMoysD5eb"
      },
      "source": [
        "## 1. Simple types\n",
        " \n",
        " - int\n",
        " - float \n",
        " - String\n",
        " - Boolean(True/False, First letter UPPERCASE)\n",
        " - NaN (Not a Number, null value)\n"
      ]
    },
    {
      "cell_type": "code",
      "metadata": {
        "colab": {
          "base_uri": "https://localhost:8080/"
        },
        "id": "OBgM0j25-awI",
        "outputId": "23e6f925-9273-4e38-e967-13b91b55d8b3"
      },
      "source": [
        "x = 5     # integer\n",
        "y = 0.5   # float\n",
        "s = \"Hello\"    # string, a collection of characters\n",
        "print(x, y, s)"
      ],
      "execution_count": null,
      "outputs": [
        {
          "output_type": "stream",
          "name": "stdout",
          "text": [
            "5 0.5 Hello\n"
          ]
        }
      ]
    },
    {
      "cell_type": "code",
      "metadata": {
        "colab": {
          "base_uri": "https://localhost:8080/"
        },
        "id": "XRg-YabS_4Et",
        "outputId": "2991adf7-ef25-4a24-9ff5-369d2a38620b"
      },
      "source": [
        "type(x)"
      ],
      "execution_count": null,
      "outputs": [
        {
          "output_type": "execute_result",
          "data": {
            "text/plain": [
              "int"
            ]
          },
          "metadata": {},
          "execution_count": 3
        }
      ]
    },
    {
      "cell_type": "code",
      "metadata": {
        "colab": {
          "base_uri": "https://localhost:8080/"
        },
        "id": "3NIl-VH6__S-",
        "outputId": "6d0d7070-f60f-4955-d340-05c70257e024"
      },
      "source": [
        "type(s)"
      ],
      "execution_count": null,
      "outputs": [
        {
          "output_type": "execute_result",
          "data": {
            "text/plain": [
              "str"
            ]
          },
          "metadata": {},
          "execution_count": 4
        }
      ]
    },
    {
      "cell_type": "markdown",
      "metadata": {
        "id": "hUouxcbX_VDP"
      },
      "source": [
        "## 2. Collection Type"
      ]
    },
    {
      "cell_type": "code",
      "metadata": {
        "colab": {
          "base_uri": "https://localhost:8080/"
        },
        "id": "Mb455j3r_Hop",
        "outputId": "e6fc702d-287d-475d-f10e-f803d07aef3a"
      },
      "source": [
        "a_list = [1, 4, 7, 10] \n",
        "print(a_list)"
      ],
      "execution_count": null,
      "outputs": [
        {
          "output_type": "stream",
          "name": "stdout",
          "text": [
            "[1, 4, 7, 10]\n"
          ]
        }
      ]
    },
    {
      "cell_type": "code",
      "metadata": {
        "colab": {
          "base_uri": "https://localhost:8080/"
        },
        "id": "Dh4be6sE_wmB",
        "outputId": "1e7f49b2-723c-4d9d-9f8f-0cea4848a5b0"
      },
      "source": [
        "type(a_list)"
      ],
      "execution_count": null,
      "outputs": [
        {
          "output_type": "execute_result",
          "data": {
            "text/plain": [
              "list"
            ]
          },
          "metadata": {},
          "execution_count": 6
        }
      ]
    },
    {
      "cell_type": "markdown",
      "metadata": {
        "id": "BeNlQhvhAJ-F"
      },
      "source": [
        "## 3. Loop"
      ]
    },
    {
      "cell_type": "code",
      "metadata": {
        "colab": {
          "base_uri": "https://localhost:8080/"
        },
        "id": "UsBb9shhASmd",
        "outputId": "12a45745-b142-4c06-f021-6d75b4a60e0c"
      },
      "source": [
        "for i in a_list:\n",
        "    print(\"interger\", i)"
      ],
      "execution_count": null,
      "outputs": [
        {
          "output_type": "stream",
          "name": "stdout",
          "text": [
            "interger 1\n",
            "interger 4\n",
            "interger 7\n",
            "interger 10\n"
          ]
        }
      ]
    },
    {
      "cell_type": "markdown",
      "metadata": {
        "id": "JomPPT7cBhi1"
      },
      "source": [
        "## 4. Conditions"
      ]
    },
    {
      "cell_type": "code",
      "metadata": {
        "colab": {
          "base_uri": "https://localhost:8080/"
        },
        "id": "3f0rjoNPBcQU",
        "outputId": "84327b9e-8c00-4445-eca9-fda8bb903081"
      },
      "source": [
        "print(10 % 2)   # modula "
      ],
      "execution_count": null,
      "outputs": [
        {
          "output_type": "stream",
          "name": "stdout",
          "text": [
            "0\n"
          ]
        }
      ]
    },
    {
      "cell_type": "code",
      "metadata": {
        "colab": {
          "base_uri": "https://localhost:8080/"
        },
        "id": "jazScrFsB8C8",
        "outputId": "f9efd22f-4dcd-48c5-de30-6092ad75579b"
      },
      "source": [
        "print(23 % 2)    # modula"
      ],
      "execution_count": null,
      "outputs": [
        {
          "output_type": "stream",
          "name": "stdout",
          "text": [
            "1\n"
          ]
        }
      ]
    },
    {
      "cell_type": "code",
      "metadata": {
        "colab": {
          "base_uri": "https://localhost:8080/"
        },
        "id": "gvv8YTPrCJ8n",
        "outputId": "2504477c-f761-4e1f-bc26-4a530c52e363"
      },
      "source": [
        "for i in a_list:\n",
        "    if i % 2 == 1:\n",
        "        print(\"Odd number\", i)"
      ],
      "execution_count": null,
      "outputs": [
        {
          "output_type": "stream",
          "name": "stdout",
          "text": [
            "Odd number 1\n",
            "Odd number 7\n"
          ]
        }
      ]
    },
    {
      "cell_type": "markdown",
      "metadata": {
        "id": "RI_uzfHnK4Sh"
      },
      "source": [
        "## 5. Python Built-in functions\n",
        "\n",
        "- range()\n",
        "- list()\n",
        "- int()\n",
        "- str()\n",
        "\n"
      ]
    },
    {
      "cell_type": "code",
      "metadata": {
        "id": "0xJZkOKjK3e8",
        "colab": {
          "base_uri": "https://localhost:8080/"
        },
        "outputId": "0b09bdf7-a8a1-406d-e104-280112729a58"
      },
      "source": [
        "for i in range(10, 21, 2):     # start = 10 stop = 21 (upto 20, not including 21), step =2\n",
        "    print(i)"
      ],
      "execution_count": null,
      "outputs": [
        {
          "output_type": "stream",
          "name": "stdout",
          "text": [
            "10\n",
            "12\n",
            "14\n",
            "16\n",
            "18\n",
            "20\n"
          ]
        }
      ]
    },
    {
      "cell_type": "code",
      "metadata": {
        "id": "VYaD-sQWLiFG",
        "colab": {
          "base_uri": "https://localhost:8080/"
        },
        "outputId": "61fc6128-4c5f-42de-db8c-924b827b269d"
      },
      "source": [
        "for j in range(0,5):\n",
        "    print(j)"
      ],
      "execution_count": null,
      "outputs": [
        {
          "output_type": "stream",
          "name": "stdout",
          "text": [
            "0\n",
            "1\n",
            "2\n",
            "3\n",
            "4\n"
          ]
        }
      ]
    },
    {
      "cell_type": "code",
      "metadata": {
        "id": "1P5S8LzHMo-I",
        "colab": {
          "base_uri": "https://localhost:8080/"
        },
        "outputId": "2453364d-cd6f-45b0-d2d0-6a270c660540"
      },
      "source": [
        "print(list(range(0,5)))"
      ],
      "execution_count": null,
      "outputs": [
        {
          "output_type": "stream",
          "name": "stdout",
          "text": [
            "[0, 1, 2, 3, 4]\n"
          ]
        }
      ]
    },
    {
      "cell_type": "code",
      "metadata": {
        "id": "BIasJp6nNGCA",
        "colab": {
          "base_uri": "https://localhost:8080/"
        },
        "outputId": "54aea8e7-6ccc-40e3-e939-97ed1e77db6c"
      },
      "source": [
        "x = \"50\"\n",
        "type(x)"
      ],
      "execution_count": null,
      "outputs": [
        {
          "output_type": "execute_result",
          "data": {
            "text/plain": [
              "str"
            ]
          },
          "metadata": {},
          "execution_count": 5
        }
      ]
    },
    {
      "cell_type": "code",
      "metadata": {
        "id": "M3_REp5WNKgC",
        "colab": {
          "base_uri": "https://localhost:8080/"
        },
        "outputId": "afbcddcf-a2e2-43ef-e34f-94ddf45b0e43"
      },
      "source": [
        "y = int(x)\n",
        "type(y)"
      ],
      "execution_count": null,
      "outputs": [
        {
          "output_type": "execute_result",
          "data": {
            "text/plain": [
              "int"
            ]
          },
          "metadata": {},
          "execution_count": 6
        }
      ]
    },
    {
      "cell_type": "code",
      "metadata": {
        "id": "WKjgfKeDNQE4",
        "colab": {
          "base_uri": "https://localhost:8080/"
        },
        "outputId": "d6dafaab-a669-4e2e-8fd5-11e9412cb2d2"
      },
      "source": [
        "print(x,y)"
      ],
      "execution_count": null,
      "outputs": [
        {
          "output_type": "stream",
          "name": "stdout",
          "text": [
            "50 50\n"
          ]
        }
      ]
    },
    {
      "cell_type": "markdown",
      "metadata": {
        "id": "TX8Nk3gzNga-"
      },
      "source": [
        "## 6. Accepting user inputs"
      ]
    },
    {
      "cell_type": "code",
      "metadata": {
        "id": "EtFOnHeQNgD2",
        "colab": {
          "base_uri": "https://localhost:8080/"
        },
        "outputId": "4a0e97b1-0dad-42c3-a150-2ab31baa3e53"
      },
      "source": [
        "x = input(\"Enter an integer: \")"
      ],
      "execution_count": null,
      "outputs": [
        {
          "name": "stdout",
          "output_type": "stream",
          "text": [
            "Enter an integer: 10\n"
          ]
        }
      ]
    },
    {
      "cell_type": "code",
      "metadata": {
        "id": "RcbLgamGN6PI",
        "colab": {
          "base_uri": "https://localhost:8080/"
        },
        "outputId": "0ceb375d-1079-429b-eaf6-2a557736b854"
      },
      "source": [
        "type(x)"
      ],
      "execution_count": null,
      "outputs": [
        {
          "output_type": "execute_result",
          "data": {
            "text/plain": [
              "str"
            ]
          },
          "metadata": {},
          "execution_count": 10
        }
      ]
    },
    {
      "cell_type": "code",
      "metadata": {
        "id": "DLigLTlnN-HZ",
        "colab": {
          "base_uri": "https://localhost:8080/"
        },
        "outputId": "18a82712-c504-4557-bd3a-96b3769bddfe"
      },
      "source": [
        "print(x)"
      ],
      "execution_count": null,
      "outputs": [
        {
          "output_type": "stream",
          "name": "stdout",
          "text": [
            "10\n"
          ]
        }
      ]
    },
    {
      "cell_type": "code",
      "metadata": {
        "id": "GLgqeiEZOHDT",
        "colab": {
          "base_uri": "https://localhost:8080/"
        },
        "outputId": "c95310ba-49c6-4c37-d594-28b6a2918473"
      },
      "source": [
        "x = input(\"Enter an integer: \")"
      ],
      "execution_count": null,
      "outputs": [
        {
          "name": "stdout",
          "output_type": "stream",
          "text": [
            "Enter an integer: Dikshitha\n"
          ]
        }
      ]
    },
    {
      "cell_type": "code",
      "metadata": {
        "id": "NcppfYxkOLQ-",
        "colab": {
          "base_uri": "https://localhost:8080/"
        },
        "outputId": "3829cfa0-717c-40f6-e7ee-345fff019b8f"
      },
      "source": [
        "type(x)"
      ],
      "execution_count": null,
      "outputs": [
        {
          "output_type": "execute_result",
          "data": {
            "text/plain": [
              "str"
            ]
          },
          "metadata": {},
          "execution_count": 13
        }
      ]
    },
    {
      "cell_type": "code",
      "metadata": {
        "id": "x6iNaRNLOQcZ",
        "colab": {
          "base_uri": "https://localhost:8080/"
        },
        "outputId": "4ff3af5e-1c4d-4c87-9f7b-10cc1bced147"
      },
      "source": [
        "print(x)"
      ],
      "execution_count": null,
      "outputs": [
        {
          "output_type": "stream",
          "name": "stdout",
          "text": [
            "Dikshitha\n"
          ]
        }
      ]
    },
    {
      "cell_type": "markdown",
      "metadata": {
        "id": "O76XQLIaOZpn"
      },
      "source": [
        "## 7. Exception Handling"
      ]
    },
    {
      "cell_type": "code",
      "metadata": {
        "id": "qGoSiTzTOeL2",
        "colab": {
          "base_uri": "https://localhost:8080/",
          "height": 183
        },
        "outputId": "541c9970-cbd2-43a2-efb8-bfe05824a30a"
      },
      "source": [
        "y = int(x)\n",
        "print(y)"
      ],
      "execution_count": null,
      "outputs": [
        {
          "output_type": "error",
          "ename": "ValueError",
          "evalue": "ignored",
          "traceback": [
            "\u001b[0;31m---------------------------------------------------------------------------\u001b[0m",
            "\u001b[0;31mValueError\u001b[0m                                Traceback (most recent call last)",
            "\u001b[0;32m<ipython-input-15-049714fa7447>\u001b[0m in \u001b[0;36m<module>\u001b[0;34m()\u001b[0m\n\u001b[0;32m----> 1\u001b[0;31m \u001b[0my\u001b[0m \u001b[0;34m=\u001b[0m \u001b[0mint\u001b[0m\u001b[0;34m(\u001b[0m\u001b[0mx\u001b[0m\u001b[0;34m)\u001b[0m\u001b[0;34m\u001b[0m\u001b[0;34m\u001b[0m\u001b[0m\n\u001b[0m\u001b[1;32m      2\u001b[0m \u001b[0mprint\u001b[0m\u001b[0;34m(\u001b[0m\u001b[0my\u001b[0m\u001b[0;34m)\u001b[0m\u001b[0;34m\u001b[0m\u001b[0;34m\u001b[0m\u001b[0m\n",
            "\u001b[0;31mValueError\u001b[0m: invalid literal for int() with base 10: 'Dikshitha'"
          ]
        }
      ]
    },
    {
      "cell_type": "code",
      "metadata": {
        "id": "_VK4Z1pBO6us",
        "colab": {
          "base_uri": "https://localhost:8080/"
        },
        "outputId": "2295afb4-89f5-46c7-d92f-4256a7baba55"
      },
      "source": [
        "y = int(\"50\")\n",
        "print(y)"
      ],
      "execution_count": null,
      "outputs": [
        {
          "output_type": "stream",
          "name": "stdout",
          "text": [
            "50\n"
          ]
        }
      ]
    },
    {
      "cell_type": "code",
      "metadata": {
        "id": "irPe_QxFPAJB",
        "colab": {
          "base_uri": "https://localhost:8080/"
        },
        "outputId": "62f060ec-521a-473f-b8bd-8ccefd67fe66"
      },
      "source": [
        "x = input(\"Please enter an integer: \")\n",
        "try:\n",
        "    y = int(x)\n",
        "    print(\"Integer : \", y)\n",
        "except: \n",
        "    print(\"Unable to convert the user input to an integer\")"
      ],
      "execution_count": null,
      "outputs": [
        {
          "output_type": "stream",
          "name": "stdout",
          "text": [
            "Please enter an integer: Dikshitha\n",
            "Unable to convert the user input to an integer\n"
          ]
        }
      ]
    },
    {
      "cell_type": "markdown",
      "metadata": {
        "id": "06H2WlmnP1YH"
      },
      "source": [
        "## 8. Infinite Loop"
      ]
    },
    {
      "cell_type": "code",
      "metadata": {
        "id": "w2j_i-viP4zG",
        "colab": {
          "base_uri": "https://localhost:8080/"
        },
        "outputId": "14346fed-4926-4965-e8d4-6a1901dde355"
      },
      "source": [
        "while True:\n",
        "    x = input(\"Please enter an Integer:\")\n",
        "    try:\n",
        "        y = int(x)\n",
        "        print(\"Integer : \", y)\n",
        "        break\n",
        "    except: \n",
        "        print(\"You must enter an integer. Please try again.\")"
      ],
      "execution_count": null,
      "outputs": [
        {
          "output_type": "stream",
          "name": "stdout",
          "text": [
            "Please enter an Integer:Kavali\n",
            "You must enter an integer. Please try again.\n",
            "Please enter an Integer:15\n",
            "Integer :  15\n"
          ]
        }
      ]
    },
    {
      "cell_type": "code",
      "metadata": {
        "colab": {
          "base_uri": "https://localhost:8080/"
        },
        "id": "2XGMEq_QU-PL",
        "outputId": "452a02f1-e824-4105-ac90-cd7963b9087f"
      },
      "source": [
        "the_list = []\n",
        "\n",
        "for i in range(0,3):\n",
        "    while True:\n",
        "        x = input(\"Please enter an integer:\")\n",
        "        try:\n",
        "            y = int(x)\n",
        "            the_list.append(y)\n",
        "            print(\"got integer:\", y)\n",
        "            break\n",
        "        except:\n",
        "            print(\"You must enter an integer. Please try again.\")\n",
        "\n",
        "\n",
        "print(\"You have entered:\", the_list)"
      ],
      "execution_count": 21,
      "outputs": [
        {
          "output_type": "stream",
          "name": "stdout",
          "text": [
            "Please enter an integer:1\n",
            "got integer: 1\n",
            "Please enter an integer:2\n",
            "got integer: 2\n",
            "Please enter an integer:3\n",
            "got integer: 3\n",
            "You have entered: [1, 2, 3]\n"
          ]
        }
      ]
    },
    {
      "cell_type": "code",
      "metadata": {
        "colab": {
          "base_uri": "https://localhost:8080/"
        },
        "id": "yiY2gCWKWQyw",
        "outputId": "a4d47d3b-c07f-411d-ec0d-183dc0d75783"
      },
      "source": [
        "total = 0\n",
        "\n",
        "for i in the_list:\n",
        "    total += i    # total = total + i\n",
        "\n",
        "print(\"total = \", total)\n"
      ],
      "execution_count": 22,
      "outputs": [
        {
          "output_type": "stream",
          "name": "stdout",
          "text": [
            "total =  6\n"
          ]
        }
      ]
    },
    {
      "cell_type": "code",
      "metadata": {
        "colab": {
          "base_uri": "https://localhost:8080/"
        },
        "id": "iYV-BibXWpq7",
        "outputId": "712a1cc0-9168-4e1d-9a7d-5c8246929eb5"
      },
      "source": [
        "mean = total / len(the_list)\n",
        "print(mean)"
      ],
      "execution_count": 23,
      "outputs": [
        {
          "output_type": "stream",
          "name": "stdout",
          "text": [
            "2.0\n"
          ]
        }
      ]
    }
  ]
}