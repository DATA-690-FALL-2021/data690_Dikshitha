{
  "nbformat": 4,
  "nbformat_minor": 0,
  "metadata": {
    "colab": {
      "name": "Untitled0.ipynb",
      "provenance": [],
      "authorship_tag": "ABX9TyM9Cw/brTHXwOZRZDoiL5ix",
      "include_colab_link": true
    },
    "kernelspec": {
      "name": "python3",
      "display_name": "Python 3"
    },
    "language_info": {
      "name": "python"
    }
  },
  "cells": [
    {
      "cell_type": "markdown",
      "metadata": {
        "id": "view-in-github",
        "colab_type": "text"
      },
      "source": [
        "<a href=\"https://colab.research.google.com/github/dkavali/data690_Dikshitha/blob/main/assignment_02/In-session_Hands-on.ipynb\" target=\"_parent\"><img src=\"https://colab.research.google.com/assets/colab-badge.svg\" alt=\"Open In Colab\"/></a>"
      ]
    },
    {
      "cell_type": "markdown",
      "metadata": {
        "id": "Ylxs6tuP_HhT"
      },
      "source": [
        "#In-Session Hands-on Practice\n",
        "\n",
        "Dikshitha Kavali"
      ]
    },
    {
      "cell_type": "markdown",
      "metadata": {
        "id": "fyjmMoysD5eb"
      },
      "source": [
        "## 1. Simple types\n"
      ]
    },
    {
      "cell_type": "code",
      "metadata": {
        "colab": {
          "base_uri": "https://localhost:8080/"
        },
        "id": "OBgM0j25-awI",
        "outputId": "23e6f925-9273-4e38-e967-13b91b55d8b3"
      },
      "source": [
        "x = 5     # integer\n",
        "y = 0.5   # float\n",
        "s = \"Hello\"    # string, a collection of characters\n",
        "print(x, y, s)"
      ],
      "execution_count": 2,
      "outputs": [
        {
          "output_type": "stream",
          "name": "stdout",
          "text": [
            "5 0.5 Hello\n"
          ]
        }
      ]
    },
    {
      "cell_type": "code",
      "metadata": {
        "colab": {
          "base_uri": "https://localhost:8080/"
        },
        "id": "XRg-YabS_4Et",
        "outputId": "2991adf7-ef25-4a24-9ff5-369d2a38620b"
      },
      "source": [
        "type(x)"
      ],
      "execution_count": 3,
      "outputs": [
        {
          "output_type": "execute_result",
          "data": {
            "text/plain": [
              "int"
            ]
          },
          "metadata": {},
          "execution_count": 3
        }
      ]
    },
    {
      "cell_type": "code",
      "metadata": {
        "colab": {
          "base_uri": "https://localhost:8080/"
        },
        "id": "3NIl-VH6__S-",
        "outputId": "6d0d7070-f60f-4955-d340-05c70257e024"
      },
      "source": [
        "type(s)"
      ],
      "execution_count": 4,
      "outputs": [
        {
          "output_type": "execute_result",
          "data": {
            "text/plain": [
              "str"
            ]
          },
          "metadata": {},
          "execution_count": 4
        }
      ]
    },
    {
      "cell_type": "markdown",
      "metadata": {
        "id": "hUouxcbX_VDP"
      },
      "source": [
        "## 2. Collection Type"
      ]
    },
    {
      "cell_type": "code",
      "metadata": {
        "colab": {
          "base_uri": "https://localhost:8080/"
        },
        "id": "Mb455j3r_Hop",
        "outputId": "e6fc702d-287d-475d-f10e-f803d07aef3a"
      },
      "source": [
        "a_list = [1, 4, 7, 10] \n",
        "print(a_list)"
      ],
      "execution_count": 5,
      "outputs": [
        {
          "output_type": "stream",
          "name": "stdout",
          "text": [
            "[1, 4, 7, 10]\n"
          ]
        }
      ]
    },
    {
      "cell_type": "code",
      "metadata": {
        "colab": {
          "base_uri": "https://localhost:8080/"
        },
        "id": "Dh4be6sE_wmB",
        "outputId": "1e7f49b2-723c-4d9d-9f8f-0cea4848a5b0"
      },
      "source": [
        "type(a_list)"
      ],
      "execution_count": 6,
      "outputs": [
        {
          "output_type": "execute_result",
          "data": {
            "text/plain": [
              "list"
            ]
          },
          "metadata": {},
          "execution_count": 6
        }
      ]
    },
    {
      "cell_type": "markdown",
      "metadata": {
        "id": "BeNlQhvhAJ-F"
      },
      "source": [
        "## 3. Loop"
      ]
    },
    {
      "cell_type": "code",
      "metadata": {
        "colab": {
          "base_uri": "https://localhost:8080/"
        },
        "id": "UsBb9shhASmd",
        "outputId": "12a45745-b142-4c06-f021-6d75b4a60e0c"
      },
      "source": [
        "for i in a_list:\n",
        "    print(\"interger\", i)"
      ],
      "execution_count": 7,
      "outputs": [
        {
          "output_type": "stream",
          "name": "stdout",
          "text": [
            "interger 1\n",
            "interger 4\n",
            "interger 7\n",
            "interger 10\n"
          ]
        }
      ]
    },
    {
      "cell_type": "markdown",
      "metadata": {
        "id": "JomPPT7cBhi1"
      },
      "source": [
        "## 4. Conditions"
      ]
    },
    {
      "cell_type": "code",
      "metadata": {
        "colab": {
          "base_uri": "https://localhost:8080/"
        },
        "id": "3f0rjoNPBcQU",
        "outputId": "84327b9e-8c00-4445-eca9-fda8bb903081"
      },
      "source": [
        "print(10 % 2)   # modula "
      ],
      "execution_count": 8,
      "outputs": [
        {
          "output_type": "stream",
          "name": "stdout",
          "text": [
            "0\n"
          ]
        }
      ]
    },
    {
      "cell_type": "code",
      "metadata": {
        "colab": {
          "base_uri": "https://localhost:8080/"
        },
        "id": "jazScrFsB8C8",
        "outputId": "f9efd22f-4dcd-48c5-de30-6092ad75579b"
      },
      "source": [
        "print(23 % 2)    # modula"
      ],
      "execution_count": 9,
      "outputs": [
        {
          "output_type": "stream",
          "name": "stdout",
          "text": [
            "1\n"
          ]
        }
      ]
    },
    {
      "cell_type": "code",
      "metadata": {
        "colab": {
          "base_uri": "https://localhost:8080/"
        },
        "id": "gvv8YTPrCJ8n",
        "outputId": "2504477c-f761-4e1f-bc26-4a530c52e363"
      },
      "source": [
        "for i in a_list:\n",
        "    if i % 2 == 1:\n",
        "        print(\"Odd number\", i)"
      ],
      "execution_count": 10,
      "outputs": [
        {
          "output_type": "stream",
          "name": "stdout",
          "text": [
            "Odd number 1\n",
            "Odd number 7\n"
          ]
        }
      ]
    }
  ]
}