{
  "nbformat": 4,
  "nbformat_minor": 0,
  "metadata": {
    "colab": {
      "name": "Untitled3.ipynb",
      "provenance": [],
      "authorship_tag": "ABX9TyNFahKl/53OUglvQ17b5c+x",
      "include_colab_link": true
    },
    "kernelspec": {
      "name": "python3",
      "display_name": "Python 3"
    },
    "language_info": {
      "name": "python"
    }
  },
  "cells": [
    {
      "cell_type": "markdown",
      "metadata": {
        "id": "view-in-github",
        "colab_type": "text"
      },
      "source": [
        "<a href=\"https://colab.research.google.com/github/dkavali/data690_Dikshitha/blob/main/assignment_02/assignment_Code.ipynb\" target=\"_parent\"><img src=\"https://colab.research.google.com/assets/colab-badge.svg\" alt=\"Open In Colab\"/></a>"
      ]
    },
    {
      "cell_type": "markdown",
      "metadata": {
        "id": "rVJmyLyasSXE"
      },
      "source": [
        "## Assignment-02\n"
      ]
    },
    {
      "cell_type": "markdown",
      "metadata": {
        "id": "akudSqRGsZJy"
      },
      "source": [
        "### 1. Accept only 10 integers as User input and print them.\n",
        "\n",
        "\n"
      ]
    },
    {
      "cell_type": "code",
      "metadata": {
        "colab": {
          "base_uri": "https://localhost:8080/"
        },
        "id": "5F85yZHU2OwK",
        "outputId": "432645ec-906c-458f-c0a4-74bbe841e109"
      },
      "source": [
        "the_list = []\n",
        "\n",
        "for i in range(0,10):\n",
        "    while True:\n",
        "        x = input(\"Please enter an integer:\")\n",
        "        try:\n",
        "            y = int(x)\n",
        "            the_list.append(y)\n",
        "            print(\"got integer:\", y)\n",
        "            break\n",
        "        except:\n",
        "            print(\"You must enter an integer. Please try again.\")\n",
        "\n",
        "\n",
        "print(\"You have entered:\", the_list)"
      ],
      "execution_count": 1,
      "outputs": [
        {
          "output_type": "stream",
          "name": "stdout",
          "text": [
            "Please enter an integer:abc\n",
            "You must enter an integer. Please try again.\n",
            "Please enter an integer:12\n",
            "got integer: 12\n",
            "Please enter an integer:def\n",
            "You must enter an integer. Please try again.\n",
            "Please enter an integer:13\n",
            "got integer: 13\n",
            "Please enter an integer:15\n",
            "got integer: 15\n",
            "Please enter an integer:6\n",
            "got integer: 6\n",
            "Please enter an integer:23\n",
            "got integer: 23\n",
            "Please enter an integer:15\n",
            "got integer: 15\n",
            "Please enter an integer:Dikshitha\n",
            "You must enter an integer. Please try again.\n",
            "Please enter an integer:9\n",
            "got integer: 9\n",
            "Please enter an integer:21\n",
            "got integer: 21\n",
            "Please enter an integer:5\n",
            "got integer: 5\n",
            "Please enter an integer:3\n",
            "got integer: 3\n",
            "You have entered: [12, 13, 15, 6, 23, 15, 9, 21, 5, 3]\n"
          ]
        }
      ]
    },
    {
      "cell_type": "markdown",
      "metadata": {
        "id": "Qf41O-WdyTWH"
      },
      "source": [
        "### 2. Perform below operations\n",
        "       Minimum\n",
        "       Maximum\n",
        "       Range\n",
        "       Mean\n",
        "       Variance\n",
        "       Standard Deviation"
      ]
    },
    {
      "cell_type": "code",
      "metadata": {
        "colab": {
          "base_uri": "https://localhost:8080/"
        },
        "id": "A1Rt8wxy3tTz",
        "outputId": "82980770-d648-4d6c-b468-a60f71586e68"
      },
      "source": [
        "# Minimum\n",
        "\n",
        "min = the_list[0]\n",
        " \n",
        "for i in range(len(the_list)):\n",
        "    # If the other element is min than first element\n",
        "    if the_list[i] < min:\n",
        "        min = the_list[i] \n",
        " \n",
        "print(\"Minimum : \",min)"
      ],
      "execution_count": 2,
      "outputs": [
        {
          "output_type": "stream",
          "name": "stdout",
          "text": [
            "Minimum :  3\n"
          ]
        }
      ]
    },
    {
      "cell_type": "code",
      "metadata": {
        "colab": {
          "base_uri": "https://localhost:8080/"
        },
        "id": "qY5vrdTZ4FHX",
        "outputId": "f28c4239-4847-4812-af7d-df00a1c817f4"
      },
      "source": [
        "# Maximum\n",
        "\n",
        "max = the_list[0]\n",
        " \n",
        "for i in range(len(the_list)):\n",
        "    # If the other element is max than first element\n",
        "    if the_list[i] > max:\n",
        "        max = the_list[i] \n",
        " \n",
        "print(\"Maximum : \",max)"
      ],
      "execution_count": 3,
      "outputs": [
        {
          "output_type": "stream",
          "name": "stdout",
          "text": [
            "Maximum :  23\n"
          ]
        }
      ]
    },
    {
      "cell_type": "code",
      "metadata": {
        "colab": {
          "base_uri": "https://localhost:8080/"
        },
        "id": "0n-L8e7l4QIY",
        "outputId": "c2fce567-3483-4065-ec0d-1e8f2ac97fec"
      },
      "source": [
        "# Range\n",
        "\n",
        "range = max - min\n",
        "print(\"Range :\", range)"
      ],
      "execution_count": 4,
      "outputs": [
        {
          "output_type": "stream",
          "name": "stdout",
          "text": [
            "Range : 20\n"
          ]
        }
      ]
    },
    {
      "cell_type": "code",
      "metadata": {
        "colab": {
          "base_uri": "https://localhost:8080/"
        },
        "id": "yiY2gCWKWQyw",
        "outputId": "13985fac-b6b5-4a97-f230-0cbf2d37ca62"
      },
      "source": [
        "total = 0\n",
        "\n",
        "for i in the_list:\n",
        "    total += i    # total = total + i\n",
        "\n",
        "print(\"Total : \", total)\n"
      ],
      "execution_count": 5,
      "outputs": [
        {
          "output_type": "stream",
          "name": "stdout",
          "text": [
            "Total :  122\n"
          ]
        }
      ]
    },
    {
      "cell_type": "code",
      "metadata": {
        "colab": {
          "base_uri": "https://localhost:8080/"
        },
        "id": "iYV-BibXWpq7",
        "outputId": "835ea059-3f85-48e1-b537-78dbc2f1215e"
      },
      "source": [
        "# Mean\n",
        "mean = total / len(the_list)\n",
        "print(\"Mean :\",mean)"
      ],
      "execution_count": 6,
      "outputs": [
        {
          "output_type": "stream",
          "name": "stdout",
          "text": [
            "Mean : 12.2\n"
          ]
        }
      ]
    },
    {
      "cell_type": "code",
      "metadata": {
        "colab": {
          "base_uri": "https://localhost:8080/"
        },
        "id": "BmeMAAOdw3Jn",
        "outputId": "e052efd3-6b65-4597-fa5b-ecf8133cf004"
      },
      "source": [
        "# Deviations\n",
        "deviations = [(x - mean) ** 2 for x in the_list]\n",
        "# Variance\n",
        "variance = sum(deviations)/len(the_list)\n",
        "print(\"Variance :\" ,variance)"
      ],
      "execution_count": 7,
      "outputs": [
        {
          "output_type": "stream",
          "name": "stdout",
          "text": [
            "Variance : 39.559999999999995\n"
          ]
        }
      ]
    },
    {
      "cell_type": "code",
      "metadata": {
        "colab": {
          "base_uri": "https://localhost:8080/"
        },
        "id": "RC9KsjqTxY6D",
        "outputId": "63e9a690-f78e-45ee-a568-372ea492eb36"
      },
      "source": [
        "# Standard Deviation\n",
        "stddev= (variance ** 0.5)\n",
        "print(\"Standard Deviation :\" ,stddev)"
      ],
      "execution_count": 8,
      "outputs": [
        {
          "output_type": "stream",
          "name": "stdout",
          "text": [
            "Standard Deviation : 6.289674077406555\n"
          ]
        }
      ]
    }
  ]
}