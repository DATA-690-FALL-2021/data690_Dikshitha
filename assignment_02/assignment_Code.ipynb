{
  "nbformat": 4,
  "nbformat_minor": 0,
  "metadata": {
    "colab": {
      "name": "Untitled3.ipynb",
      "provenance": [],
      "authorship_tag": "ABX9TyMrNq9hgM97udICjR/y/ziK",
      "include_colab_link": true
    },
    "kernelspec": {
      "name": "python3",
      "display_name": "Python 3"
    },
    "language_info": {
      "name": "python"
    }
  },
  "cells": [
    {
      "cell_type": "markdown",
      "metadata": {
        "id": "view-in-github",
        "colab_type": "text"
      },
      "source": [
        "<a href=\"https://colab.research.google.com/github/dkavali/data690_Dikshitha/blob/main/assignment_02/assignment_Code.ipynb\" target=\"_parent\"><img src=\"https://colab.research.google.com/assets/colab-badge.svg\" alt=\"Open In Colab\"/></a>"
      ]
    },
    {
      "cell_type": "markdown",
      "metadata": {
        "id": "rVJmyLyasSXE"
      },
      "source": [
        "## Assignment-02\n"
      ]
    },
    {
      "cell_type": "markdown",
      "metadata": {
        "id": "akudSqRGsZJy"
      },
      "source": [
        "### 1. Accept only 10 integers as User input and print them.\n",
        "\n",
        "\n"
      ]
    },
    {
      "cell_type": "code",
      "metadata": {
        "colab": {
          "base_uri": "https://localhost:8080/"
        },
        "id": "5F85yZHU2OwK",
        "outputId": "6f03c4a2-0b47-4d59-a387-83f3b7f8604d"
      },
      "source": [
        "the_list = []\n",
        "\n",
        "for i in range(0,10):\n",
        "    while True:\n",
        "        x = input(\"Please enter an integer:\")\n",
        "        try:\n",
        "            y = int(x)\n",
        "            the_list.append(y)\n",
        "            print(\"got integer:\", y)\n",
        "            break\n",
        "        except:\n",
        "            print(\"You must enter an integer. Please try again.\")\n",
        "\n",
        "\n",
        "print(\"You have entered:\", the_list)"
      ],
      "execution_count": 2,
      "outputs": [
        {
          "output_type": "stream",
          "name": "stdout",
          "text": [
            "Please enter an integer:10\n",
            "got integer: 10\n",
            "Please enter an integer:4\n",
            "got integer: 4\n",
            "Please enter an integer:6\n",
            "got integer: 6\n",
            "Please enter an integer:2\n",
            "got integer: 2\n",
            "Please enter an integer:7\n",
            "got integer: 7\n",
            "Please enter an integer:4\n",
            "got integer: 4\n",
            "Please enter an integer:0\n",
            "got integer: 0\n",
            "Please enter an integer:2\n",
            "got integer: 2\n",
            "Please enter an integer:5\n",
            "got integer: 5\n",
            "Please enter an integer:8\n",
            "got integer: 8\n",
            "You have entered: [10, 4, 6, 2, 7, 4, 0, 2, 5, 8]\n"
          ]
        }
      ]
    },
    {
      "cell_type": "markdown",
      "metadata": {
        "id": "Qf41O-WdyTWH"
      },
      "source": [
        "### 2. Perform below operations\n",
        "       Minimum\n",
        "       Maximum\n",
        "       Range\n",
        "       Mean\n",
        "       Variance\n",
        "       Standard Deviation"
      ]
    },
    {
      "cell_type": "code",
      "metadata": {
        "colab": {
          "base_uri": "https://localhost:8080/"
        },
        "id": "A1Rt8wxy3tTz",
        "outputId": "19b1f45e-8282-451e-8eee-486b0350d2d3"
      },
      "source": [
        "# Minimum\n",
        "\n",
        "min = the_list[0]\n",
        " \n",
        "for i in range(len(the_list)):\n",
        "    # If the other element is min than first element\n",
        "    if the_list[i] < min:\n",
        "        min = the_list[i] \n",
        " \n",
        "print(\"Minimum : \",min)"
      ],
      "execution_count": 10,
      "outputs": [
        {
          "output_type": "stream",
          "name": "stdout",
          "text": [
            "Minimum :  0\n"
          ]
        }
      ]
    },
    {
      "cell_type": "code",
      "metadata": {
        "colab": {
          "base_uri": "https://localhost:8080/"
        },
        "id": "qY5vrdTZ4FHX",
        "outputId": "9d39d444-78ac-4e0d-c4e8-61f36e61f33d"
      },
      "source": [
        "# Maximum\n",
        "\n",
        "max = the_list[0]\n",
        " \n",
        "for i in range(len(the_list)):\n",
        "    # If the other element is max than first element\n",
        "    if the_list[i] > max:\n",
        "        max = the_list[i] \n",
        " \n",
        "print(\"Maximum : \",max)"
      ],
      "execution_count": 11,
      "outputs": [
        {
          "output_type": "stream",
          "name": "stdout",
          "text": [
            "Maximum :  10\n"
          ]
        }
      ]
    },
    {
      "cell_type": "code",
      "metadata": {
        "colab": {
          "base_uri": "https://localhost:8080/"
        },
        "id": "0n-L8e7l4QIY",
        "outputId": "45ebb9ec-6454-4491-893f-4db3e4bcf07b"
      },
      "source": [
        "# Range\n",
        "\n",
        "range = max - min\n",
        "print(\"Range :\", range)"
      ],
      "execution_count": 12,
      "outputs": [
        {
          "output_type": "stream",
          "name": "stdout",
          "text": [
            "Range : 10\n"
          ]
        }
      ]
    },
    {
      "cell_type": "code",
      "metadata": {
        "colab": {
          "base_uri": "https://localhost:8080/"
        },
        "id": "yiY2gCWKWQyw",
        "outputId": "41b3e586-6f5c-436b-f1c9-a7a522f474be"
      },
      "source": [
        "total = 0\n",
        "\n",
        "for i in the_list:\n",
        "    total += i    # total = total + i\n",
        "\n",
        "print(\"total : \", total)\n"
      ],
      "execution_count": 6,
      "outputs": [
        {
          "output_type": "stream",
          "name": "stdout",
          "text": [
            "total :  48\n"
          ]
        }
      ]
    },
    {
      "cell_type": "code",
      "metadata": {
        "colab": {
          "base_uri": "https://localhost:8080/"
        },
        "id": "iYV-BibXWpq7",
        "outputId": "6cbe59c5-3cce-496c-fcb5-3985f9889122"
      },
      "source": [
        "# Mean\n",
        "mean = total / len(the_list)\n",
        "print(\"Mean :\",mean)"
      ],
      "execution_count": 7,
      "outputs": [
        {
          "output_type": "stream",
          "name": "stdout",
          "text": [
            "Mean : 4.8\n"
          ]
        }
      ]
    },
    {
      "cell_type": "code",
      "metadata": {
        "colab": {
          "base_uri": "https://localhost:8080/"
        },
        "id": "BmeMAAOdw3Jn",
        "outputId": "0b33477e-29d3-4b22-f0d4-2d4603d47351"
      },
      "source": [
        "# Deviations\n",
        "deviations = [(x - mean) ** 2 for x in the_list]\n",
        "# Variance\n",
        "variance = sum(deviations)/len(the_list)\n",
        "print(variance)"
      ],
      "execution_count": 8,
      "outputs": [
        {
          "output_type": "stream",
          "name": "stdout",
          "text": [
            "8.360000000000003\n"
          ]
        }
      ]
    },
    {
      "cell_type": "code",
      "metadata": {
        "colab": {
          "base_uri": "https://localhost:8080/"
        },
        "id": "RC9KsjqTxY6D",
        "outputId": "06796c34-023d-499d-ce57-15844a7c37b2"
      },
      "source": [
        "# Standard Deviation\n",
        "stddev= (variance ** 0.5)\n",
        "print(stddev)"
      ],
      "execution_count": 9,
      "outputs": [
        {
          "output_type": "stream",
          "name": "stdout",
          "text": [
            "2.8913664589601926\n"
          ]
        }
      ]
    }
  ]
}