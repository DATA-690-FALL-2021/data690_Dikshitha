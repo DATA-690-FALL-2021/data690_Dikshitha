{
  "nbformat": 4,
  "nbformat_minor": 0,
  "metadata": {
    "colab": {
      "name": "assignment_01.ipynb",
      "provenance": [],
      "authorship_tag": "ABX9TyOwNzdMVVElOnr/qHO0IJzN",
      "include_colab_link": true
    },
    "kernelspec": {
      "name": "python3",
      "display_name": "Python 3"
    },
    "language_info": {
      "name": "python"
    }
  },
  "cells": [
    {
      "cell_type": "markdown",
      "metadata": {
        "id": "view-in-github",
        "colab_type": "text"
      },
      "source": [
        "<a href=\"https://colab.research.google.com/github/dkavali/data690_Dikshitha/blob/main/assignment_01.ipynb\" target=\"_parent\"><img src=\"https://colab.research.google.com/assets/colab-badge.svg\" alt=\"Open In Colab\"/></a>"
      ]
    },
    {
      "cell_type": "markdown",
      "metadata": {
        "id": "h1E1rFy2O12y"
      },
      "source": [
        "# Assignment 1 for DATA 690 FALL 2021\n",
        "- Instructor: Dr. Jay Wang\n",
        "- Student: Dikshitha Kavali\n",
        "- Date: 09/02/2021\n",
        "\n",
        "This is for demonstrating the use of Jupyter Notebook\n"
      ]
    },
    {
      "cell_type": "markdown",
      "metadata": {
        "id": "_iv_5y5BQdL4"
      },
      "source": [
        "## 1. Simplest Python Code"
      ]
    },
    {
      "cell_type": "code",
      "metadata": {
        "colab": {
          "base_uri": "https://localhost:8080/"
        },
        "id": "S4-Cdbh_O41N",
        "outputId": "7e4e0ca7-da9b-49a6-de5d-cd2f86b085d2"
      },
      "source": [
        "print(\"Hello World\")"
      ],
      "execution_count": 2,
      "outputs": [
        {
          "output_type": "stream",
          "name": "stdout",
          "text": [
            "Hello World\n"
          ]
        }
      ]
    },
    {
      "cell_type": "markdown",
      "metadata": {
        "id": "WeZU-NrxQEq6"
      },
      "source": [
        "## 2. Perform Multiplication"
      ]
    },
    {
      "cell_type": "code",
      "metadata": {
        "colab": {
          "base_uri": "https://localhost:8080/"
        },
        "id": "w5hXBG1jPYJC",
        "outputId": "46d7a86d-1f0d-49f6-c0f0-8e7f3ec09465"
      },
      "source": [
        "x = 10*2\n",
        "print(x)"
      ],
      "execution_count": 3,
      "outputs": [
        {
          "output_type": "stream",
          "name": "stdout",
          "text": [
            "20\n"
          ]
        }
      ]
    },
    {
      "cell_type": "markdown",
      "metadata": {
        "id": "cdejWTfRQJV4"
      },
      "source": [
        "## 3. Perform Division"
      ]
    },
    {
      "cell_type": "code",
      "metadata": {
        "colab": {
          "base_uri": "https://localhost:8080/"
        },
        "id": "gzMxYg2gPgBb",
        "outputId": "f3acd17d-89d0-4aba-b2b9-35ae85933415"
      },
      "source": [
        "y = 100\n",
        "z = y/x\n",
        "print(z)"
      ],
      "execution_count": 4,
      "outputs": [
        {
          "output_type": "stream",
          "name": "stdout",
          "text": [
            "5.0\n"
          ]
        }
      ]
    }
  ]
}