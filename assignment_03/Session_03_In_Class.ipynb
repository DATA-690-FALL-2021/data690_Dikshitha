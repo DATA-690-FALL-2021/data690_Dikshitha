{
  "nbformat": 4,
  "nbformat_minor": 0,
  "metadata": {
    "colab": {
      "name": "Session_03_In_Class.ipynb",
      "provenance": [],
      "authorship_tag": "ABX9TyNLNWTqSAW1JY6fe29WXuaT",
      "include_colab_link": true
    },
    "kernelspec": {
      "name": "python3",
      "display_name": "Python 3"
    },
    "language_info": {
      "name": "python"
    }
  },
  "cells": [
    {
      "cell_type": "markdown",
      "metadata": {
        "id": "view-in-github",
        "colab_type": "text"
      },
      "source": [
        "<a href=\"https://colab.research.google.com/github/dkavali/data690_Dikshitha/blob/main/assignment_03/Session_03_In_Class.ipynb\" target=\"_parent\"><img src=\"https://colab.research.google.com/assets/colab-badge.svg\" alt=\"Open In Colab\"/></a>"
      ]
    },
    {
      "cell_type": "markdown",
      "metadata": {
        "id": "YDIDy0818UWU"
      },
      "source": [
        "# Session 3 In Class Practice\n",
        "- Dikshitha Kavali\n",
        "- September 16\n"
      ]
    },
    {
      "cell_type": "markdown",
      "metadata": {
        "id": "YC4bG95j8-PD"
      },
      "source": [
        "## 1. List Comprehension"
      ]
    },
    {
      "cell_type": "code",
      "metadata": {
        "colab": {
          "base_uri": "https://localhost:8080/"
        },
        "id": "IlOiYpNx8rcZ",
        "outputId": "4aa7fa13-a981-49ff-d62a-4a9cbc8bd40d"
      },
      "source": [
        "# This is traditional way using \"FOR\" loop.\n",
        "x = [2, 5, -7, 10, 12]\n",
        "\n",
        "y = []\n",
        "\n",
        "for i in x:\n",
        "    new_num = i+10\n",
        "    y.append(new_num)\n",
        "\n",
        "print(y)\n"
      ],
      "execution_count": 3,
      "outputs": [
        {
          "output_type": "stream",
          "name": "stdout",
          "text": [
            "[12, 15, 3, 20, 22]\n"
          ]
        }
      ]
    },
    {
      "cell_type": "code",
      "metadata": {
        "colab": {
          "base_uri": "https://localhost:8080/"
        },
        "id": "u1283k1B-bSp",
        "outputId": "8a08968a-d166-4d4e-bc83-1c22af190327"
      },
      "source": [
        "# New way using List Comprehension\n",
        "\n",
        "y = [i+10 for i in x]\n",
        "\n",
        "print(y)"
      ],
      "execution_count": 5,
      "outputs": [
        {
          "output_type": "stream",
          "name": "stdout",
          "text": [
            "[12, 15, 3, 20, 22]\n"
          ]
        }
      ]
    },
    {
      "cell_type": "markdown",
      "metadata": {
        "id": "xHyQ3oLV-1js"
      },
      "source": [
        "## 2. User-defined Function\n"
      ]
    },
    {
      "cell_type": "code",
      "metadata": {
        "colab": {
          "base_uri": "https://localhost:8080/"
        },
        "id": "6_e4BiO6_Dfn",
        "outputId": "b612a455-9bd8-4660-c259-f996eb4df62d"
      },
      "source": [
        "def addition(a,b):\n",
        "    return a+b\n",
        "\n",
        "y = addition(5, 10)\n",
        "print(y)"
      ],
      "execution_count": 8,
      "outputs": [
        {
          "output_type": "stream",
          "name": "stdout",
          "text": [
            "15\n"
          ]
        }
      ]
    },
    {
      "cell_type": "code",
      "metadata": {
        "colab": {
          "base_uri": "https://localhost:8080/"
        },
        "id": "ergLhlqa_1jO",
        "outputId": "f2359b64-6218-43de-af4c-0b052cad071a"
      },
      "source": [
        "def division(a, b):\n",
        "    return a/b\n",
        "\n",
        "y = division(5, 10)\n",
        "print(y)"
      ],
      "execution_count": 9,
      "outputs": [
        {
          "output_type": "stream",
          "name": "stdout",
          "text": [
            "0.5\n"
          ]
        }
      ]
    }
  ]
}