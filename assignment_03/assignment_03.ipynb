{
  "nbformat": 4,
  "nbformat_minor": 0,
  "metadata": {
    "colab": {
      "name": "assignment_03.ipynb",
      "provenance": [],
      "authorship_tag": "ABX9TyPC1RG7NGB06a/B0IpoOYSB",
      "include_colab_link": true
    },
    "kernelspec": {
      "name": "python3",
      "display_name": "Python 3"
    },
    "language_info": {
      "name": "python"
    }
  },
  "cells": [
    {
      "cell_type": "markdown",
      "metadata": {
        "id": "view-in-github",
        "colab_type": "text"
      },
      "source": [
        "<a href=\"https://colab.research.google.com/github/dkavali/data690_Dikshitha/blob/main/assignment_03/assignment_03.ipynb\" target=\"_parent\"><img src=\"https://colab.research.google.com/assets/colab-badge.svg\" alt=\"Open In Colab\"/></a>"
      ]
    },
    {
      "cell_type": "markdown",
      "metadata": {
        "id": "FtAV_CeYwftD"
      },
      "source": [
        "# Assignment 3"
      ]
    },
    {
      "cell_type": "markdown",
      "metadata": {
        "id": "1naca9Dlwf3E"
      },
      "source": [
        "## 1.Write a program that generates 100 random integers between 0 and 9.\n",
        "\n",
        "- Print them in a 10 by 10 matrix neatly arranged with one space between each number"
      ]
    },
    {
      "cell_type": "code",
      "metadata": {
        "colab": {
          "base_uri": "https://localhost:8080/"
        },
        "id": "W8UZoAFZwe7C",
        "outputId": "2a2ced24-365e-41c7-ac10-808dfda3c573"
      },
      "source": [
        "import random\n",
        " \n",
        "j = 0\n",
        "\n",
        "for i in range(10):\n",
        "  for j in range(10):\n",
        "      i = random.randint(0,9)\n",
        "      print(i , end = \" \")\n",
        "      j +=1\n",
        "      if j ==10:\n",
        "        print(\"\\n\")\n",
        "      else:\n",
        "        continue\n"
      ],
      "execution_count": 63,
      "outputs": [
        {
          "output_type": "stream",
          "name": "stdout",
          "text": [
            "9 4 5 3 4 4 4 8 8 3 \n",
            "\n",
            "7 9 9 2 6 2 2 6 8 3 \n",
            "\n",
            "0 0 0 4 7 5 3 2 8 0 \n",
            "\n",
            "5 3 3 2 1 4 6 9 8 9 \n",
            "\n",
            "9 6 5 3 3 2 2 7 1 4 \n",
            "\n",
            "3 7 4 3 1 8 6 5 8 2 \n",
            "\n",
            "9 5 0 7 0 7 5 4 2 4 \n",
            "\n",
            "2 5 6 6 3 7 9 5 0 7 \n",
            "\n",
            "1 2 8 0 4 0 5 7 4 4 \n",
            "\n",
            "2 0 5 2 9 9 5 8 7 1 \n",
            "\n"
          ]
        }
      ]
    },
    {
      "cell_type": "markdown",
      "metadata": {
        "id": "QmnydWn5KT4w"
      },
      "source": [
        "## 2. If the random number is an odd number, print \"@\" instead.\n"
      ]
    },
    {
      "cell_type": "code",
      "metadata": {
        "colab": {
          "base_uri": "https://localhost:8080/"
        },
        "id": "iICuGFXAKh6p",
        "outputId": "867b846d-e330-4d6f-f120-b05d054640d1"
      },
      "source": [
        "j = 0\n",
        "\n",
        "for i in range(10):\n",
        "  for j in range(10):\n",
        "      i = random.randint(0,9)\n",
        "      if i % 2 != 0:\n",
        "       print(\"@\", end = \" \" )\n",
        "      else:\n",
        "       print(i , end = \" \")\n",
        "      j +=1\n",
        "      if j ==10:\n",
        "        print(\"\\n\")\n",
        "      else:\n",
        "        continue\n"
      ],
      "execution_count": 68,
      "outputs": [
        {
          "output_type": "stream",
          "name": "stdout",
          "text": [
            "0 6 2 0 @ 2 @ 6 2 2 \n",
            "\n",
            "@ @ 0 8 4 8 @ 4 @ @ \n",
            "\n",
            "0 @ @ 2 8 2 4 @ @ 6 \n",
            "\n",
            "@ 0 @ @ 4 4 8 6 2 6 \n",
            "\n",
            "0 0 2 0 @ 0 @ 6 @ @ \n",
            "\n",
            "@ 6 0 8 4 0 @ @ 6 8 \n",
            "\n",
            "0 @ @ 8 6 0 2 @ @ 2 \n",
            "\n",
            "8 @ @ @ @ @ @ 6 @ @ \n",
            "\n",
            "6 4 @ 0 @ 6 6 0 @ 6 \n",
            "\n",
            "@ 6 8 @ @ 6 @ @ @ 0 \n",
            "\n"
          ]
        }
      ]
    },
    {
      "cell_type": "markdown",
      "metadata": {
        "id": "2fyLy46RLeQt"
      },
      "source": [
        "## 3. Calculate and Print the total of each row (use \"*\" to separate the total from the numbers)"
      ]
    },
    {
      "cell_type": "code",
      "metadata": {
        "colab": {
          "base_uri": "https://localhost:8080/"
        },
        "id": "JpnLYq0WLhON",
        "outputId": "b3807c07-e977-478d-a0af-8bdb9fac1091"
      },
      "source": [
        "j = 0\n",
        "\n",
        "for i in range(10):\n",
        "\n",
        "  total = 0\n",
        "\n",
        "  for j in range(10):    \n",
        "      i = random.randint(0,9)\n",
        "      print(i , end = \" \")\n",
        "\n",
        "      total +=i\n",
        "      j +=1\n",
        "      \n",
        "      if j ==10:\n",
        "        print(\"*\", total)\n",
        "        print(\"\\n\")\n",
        "      else:\n",
        "        continue\n"
      ],
      "execution_count": 72,
      "outputs": [
        {
          "output_type": "stream",
          "name": "stdout",
          "text": [
            "1 9 6 0 5 7 9 0 0 9 * 46\n",
            "\n",
            "\n",
            "5 7 1 2 9 7 3 4 6 9 * 53\n",
            "\n",
            "\n",
            "1 1 4 8 8 1 5 3 4 5 * 40\n",
            "\n",
            "\n",
            "7 5 6 9 8 2 9 8 3 1 * 58\n",
            "\n",
            "\n",
            "9 7 4 7 5 8 3 1 5 5 * 54\n",
            "\n",
            "\n",
            "9 4 0 2 2 2 8 7 6 2 * 42\n",
            "\n",
            "\n",
            "2 4 4 3 1 7 3 9 0 2 * 35\n",
            "\n",
            "\n",
            "7 0 9 1 6 6 0 0 3 4 * 36\n",
            "\n",
            "\n",
            "3 8 7 9 4 8 9 0 5 9 * 62\n",
            "\n",
            "\n",
            "4 8 3 4 7 7 5 3 9 8 * 58\n",
            "\n",
            "\n"
          ]
        }
      ]
    },
    {
      "cell_type": "markdown",
      "metadata": {
        "id": "egNacEHlNC9D"
      },
      "source": [
        "## 4. Optional: Surround the matrix with asterisks (*)"
      ]
    },
    {
      "cell_type": "code",
      "metadata": {
        "colab": {
          "base_uri": "https://localhost:8080/"
        },
        "id": "uoWofCrSNJ8p",
        "outputId": "c74c027b-7ce5-408b-9e5f-17ebed992368"
      },
      "source": [
        "j = 0\n",
        "\n",
        "for s in range(12):\n",
        "  print(\"*\", end = \" \")\n",
        "print(\"\\n\")\n",
        "\n",
        "for i in range(10):\n",
        "  print(\"*\", end = \" \")\n",
        "  for j in range(10):\n",
        "      \n",
        "      i = random.randint(0,9)\n",
        "      print(i , end = \" \")\n",
        "      j +=1\n",
        "      if j ==10:\n",
        "        print(\"*\")\n",
        "        print(\"\\n\")\n",
        "      else:\n",
        "        continue\n",
        "\n",
        "for s in range(12):\n",
        "  print(\"*\", end = \" \")\n",
        "print(\"\\n\")"
      ],
      "execution_count": 85,
      "outputs": [
        {
          "output_type": "stream",
          "name": "stdout",
          "text": [
            "* * * * * * * * * * * * \n",
            "\n",
            "* 7 2 9 2 5 9 8 0 7 8 *\n",
            "\n",
            "\n",
            "* 1 9 6 7 6 3 1 3 5 1 *\n",
            "\n",
            "\n",
            "* 6 5 8 5 1 7 6 1 1 0 *\n",
            "\n",
            "\n",
            "* 8 0 9 7 7 4 4 5 3 1 *\n",
            "\n",
            "\n",
            "* 0 7 7 4 0 0 3 3 5 9 *\n",
            "\n",
            "\n",
            "* 2 4 4 0 0 6 2 9 9 6 *\n",
            "\n",
            "\n",
            "* 2 9 2 9 3 3 3 2 8 5 *\n",
            "\n",
            "\n",
            "* 9 6 0 6 8 4 6 8 2 6 *\n",
            "\n",
            "\n",
            "* 7 4 1 4 0 2 9 3 7 3 *\n",
            "\n",
            "\n",
            "* 6 5 5 2 4 9 6 1 3 8 *\n",
            "\n",
            "\n",
            "* * * * * * * * * * * * \n",
            "\n"
          ]
        }
      ]
    },
    {
      "cell_type": "markdown",
      "metadata": {
        "id": "9RHqJk8aOoEt"
      },
      "source": [
        "## 5. Optional (challenging): Calculate and Print the total of each row and column"
      ]
    },
    {
      "cell_type": "code",
      "metadata": {
        "colab": {
          "base_uri": "https://localhost:8080/"
        },
        "id": "IvGFfn4JOuCl",
        "outputId": "be89b3c7-f135-48bd-fda2-50be4ad97849"
      },
      "source": [
        "j = 0\n",
        "\n",
        "for i in range(10):\n",
        "\n",
        "  total = 0\n",
        "\n",
        "  for j in range(10):    \n",
        "      i = random.randint(0,9)\n",
        "      \n",
        "      print(i , end = \" \")\n",
        "\n",
        "      total +=i\n",
        "      j +=1\n",
        "      \n",
        "      if j ==10:\n",
        "        print(\"*\", total)\n",
        "        print(\"\\n\")\n",
        "      else:\n",
        "        continue"
      ],
      "execution_count": 86,
      "outputs": [
        {
          "output_type": "stream",
          "name": "stdout",
          "text": [
            "2 4 1 3 7 3 3 6 2 9 * 40\n",
            "\n",
            "\n",
            "3 0 7 7 3 3 7 6 0 8 * 44\n",
            "\n",
            "\n",
            "2 1 0 0 5 6 8 0 0 0 * 22\n",
            "\n",
            "\n",
            "3 5 5 8 4 9 6 1 1 4 * 46\n",
            "\n",
            "\n",
            "4 9 0 1 8 5 8 3 5 5 * 48\n",
            "\n",
            "\n",
            "6 2 0 3 2 9 3 2 3 9 * 39\n",
            "\n",
            "\n",
            "2 4 3 4 8 8 5 8 0 3 * 45\n",
            "\n",
            "\n",
            "6 4 3 1 3 9 4 8 2 7 * 47\n",
            "\n",
            "\n",
            "0 3 1 5 8 0 0 3 3 3 * 26\n",
            "\n",
            "\n",
            "6 8 1 4 7 0 0 7 1 1 * 35\n",
            "\n",
            "\n"
          ]
        }
      ]
    }
  ]
}