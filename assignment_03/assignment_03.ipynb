{
  "nbformat": 4,
  "nbformat_minor": 0,
  "metadata": {
    "colab": {
      "name": "assignment_03.ipynb",
      "provenance": [],
      "authorship_tag": "ABX9TyOUVwflIJWXS31QciFKjVsK",
      "include_colab_link": true
    },
    "kernelspec": {
      "name": "python3",
      "display_name": "Python 3"
    },
    "language_info": {
      "name": "python"
    }
  },
  "cells": [
    {
      "cell_type": "markdown",
      "metadata": {
        "id": "view-in-github",
        "colab_type": "text"
      },
      "source": [
        "<a href=\"https://colab.research.google.com/github/dkavali/data690_Dikshitha/blob/main/assignment_03/assignment_03.ipynb\" target=\"_parent\"><img src=\"https://colab.research.google.com/assets/colab-badge.svg\" alt=\"Open In Colab\"/></a>"
      ]
    },
    {
      "cell_type": "markdown",
      "metadata": {
        "id": "FtAV_CeYwftD"
      },
      "source": [
        "# Assignment 3"
      ]
    },
    {
      "cell_type": "markdown",
      "metadata": {
        "id": "1naca9Dlwf3E"
      },
      "source": [
        "## 1.Write a program that generates 100 random integers between 0 and 9.\n",
        "\n",
        "- Print them in a 10 by 10 matrix neatly arranged with one space between each number"
      ]
    },
    {
      "cell_type": "code",
      "metadata": {
        "colab": {
          "base_uri": "https://localhost:8080/"
        },
        "id": "W8UZoAFZwe7C",
        "outputId": "f0249bfa-89b5-4b7c-f6ef-4d91e3a46a9e"
      },
      "source": [
        "import random\n",
        " \n",
        "j = 0\n",
        "\n",
        "for i in range(10):\n",
        "  for j in range(10):\n",
        "      i = random.randint(0,9)\n",
        "      print(i , end = \" \")\n",
        "      j +=1\n",
        "      if j ==10:\n",
        "        print(\"\\n\")\n",
        "      else:\n",
        "        continue\n"
      ],
      "execution_count": 5,
      "outputs": [
        {
          "output_type": "stream",
          "name": "stdout",
          "text": [
            "1 4 9 0 4 0 4 4 6 5 \n",
            "\n",
            "3 2 9 2 8 6 8 2 8 1 \n",
            "\n",
            "8 5 6 2 3 7 9 5 7 0 \n",
            "\n",
            "1 1 0 8 5 8 7 8 4 5 \n",
            "\n",
            "1 7 0 0 3 2 0 4 7 0 \n",
            "\n",
            "9 1 3 9 8 3 2 0 5 3 \n",
            "\n",
            "8 6 7 0 4 7 1 1 1 5 \n",
            "\n",
            "9 7 3 5 0 6 7 5 8 0 \n",
            "\n",
            "8 4 1 2 4 3 3 7 7 3 \n",
            "\n",
            "4 4 7 1 1 6 9 1 4 6 \n",
            "\n"
          ]
        }
      ]
    },
    {
      "cell_type": "markdown",
      "metadata": {
        "id": "QmnydWn5KT4w"
      },
      "source": [
        "## 2. If the random number is an odd number, print \"@\" instead.\n"
      ]
    },
    {
      "cell_type": "code",
      "metadata": {
        "colab": {
          "base_uri": "https://localhost:8080/"
        },
        "id": "iICuGFXAKh6p",
        "outputId": "867b846d-e330-4d6f-f120-b05d054640d1"
      },
      "source": [
        "j = 0\n",
        "\n",
        "for i in range(10):\n",
        "  for j in range(10):\n",
        "      i = random.randint(0,9)\n",
        "      if i % 2 != 0:\n",
        "       print(\"@\", end = \" \" )\n",
        "      else:\n",
        "       print(i , end = \" \")\n",
        "      j +=1\n",
        "      if j ==10:\n",
        "        print(\"\\n\")\n",
        "      else:\n",
        "        continue\n"
      ],
      "execution_count": null,
      "outputs": [
        {
          "output_type": "stream",
          "name": "stdout",
          "text": [
            "0 6 2 0 @ 2 @ 6 2 2 \n",
            "\n",
            "@ @ 0 8 4 8 @ 4 @ @ \n",
            "\n",
            "0 @ @ 2 8 2 4 @ @ 6 \n",
            "\n",
            "@ 0 @ @ 4 4 8 6 2 6 \n",
            "\n",
            "0 0 2 0 @ 0 @ 6 @ @ \n",
            "\n",
            "@ 6 0 8 4 0 @ @ 6 8 \n",
            "\n",
            "0 @ @ 8 6 0 2 @ @ 2 \n",
            "\n",
            "8 @ @ @ @ @ @ 6 @ @ \n",
            "\n",
            "6 4 @ 0 @ 6 6 0 @ 6 \n",
            "\n",
            "@ 6 8 @ @ 6 @ @ @ 0 \n",
            "\n"
          ]
        }
      ]
    },
    {
      "cell_type": "markdown",
      "metadata": {
        "id": "2fyLy46RLeQt"
      },
      "source": [
        "## 3. Calculate and Print the total of each row (use \"*\" to separate the total from the numbers)"
      ]
    },
    {
      "cell_type": "code",
      "metadata": {
        "colab": {
          "base_uri": "https://localhost:8080/"
        },
        "id": "JpnLYq0WLhON",
        "outputId": "b3807c07-e977-478d-a0af-8bdb9fac1091"
      },
      "source": [
        "j = 0\n",
        "\n",
        "for i in range(10):\n",
        "\n",
        "  total = 0\n",
        "\n",
        "  for j in range(10):    \n",
        "      i = random.randint(0,9)\n",
        "      print(i , end = \" \")\n",
        "\n",
        "      total +=i\n",
        "      j +=1\n",
        "      \n",
        "      if j ==10:\n",
        "        print(\"*\", total)\n",
        "        print(\"\\n\")\n",
        "      else:\n",
        "        continue\n"
      ],
      "execution_count": null,
      "outputs": [
        {
          "output_type": "stream",
          "name": "stdout",
          "text": [
            "1 9 6 0 5 7 9 0 0 9 * 46\n",
            "\n",
            "\n",
            "5 7 1 2 9 7 3 4 6 9 * 53\n",
            "\n",
            "\n",
            "1 1 4 8 8 1 5 3 4 5 * 40\n",
            "\n",
            "\n",
            "7 5 6 9 8 2 9 8 3 1 * 58\n",
            "\n",
            "\n",
            "9 7 4 7 5 8 3 1 5 5 * 54\n",
            "\n",
            "\n",
            "9 4 0 2 2 2 8 7 6 2 * 42\n",
            "\n",
            "\n",
            "2 4 4 3 1 7 3 9 0 2 * 35\n",
            "\n",
            "\n",
            "7 0 9 1 6 6 0 0 3 4 * 36\n",
            "\n",
            "\n",
            "3 8 7 9 4 8 9 0 5 9 * 62\n",
            "\n",
            "\n",
            "4 8 3 4 7 7 5 3 9 8 * 58\n",
            "\n",
            "\n"
          ]
        }
      ]
    },
    {
      "cell_type": "markdown",
      "metadata": {
        "id": "egNacEHlNC9D"
      },
      "source": [
        "## 4. Optional: Surround the matrix with asterisks (*)"
      ]
    },
    {
      "cell_type": "code",
      "metadata": {
        "colab": {
          "base_uri": "https://localhost:8080/"
        },
        "id": "uoWofCrSNJ8p",
        "outputId": "c74c027b-7ce5-408b-9e5f-17ebed992368"
      },
      "source": [
        "j = 0\n",
        "\n",
        "for s in range(12):\n",
        "  print(\"*\", end = \" \")\n",
        "print(\"\\n\")\n",
        "\n",
        "for i in range(10):\n",
        "  print(\"*\", end = \" \")\n",
        "  for j in range(10):\n",
        "      \n",
        "      i = random.randint(0,9)\n",
        "      print(i , end = \" \")\n",
        "      j +=1\n",
        "      if j ==10:\n",
        "        print(\"*\")\n",
        "        print(\"\\n\")\n",
        "      else:\n",
        "        continue\n",
        "\n",
        "for s in range(12):\n",
        "  print(\"*\", end = \" \")\n",
        "print(\"\\n\")"
      ],
      "execution_count": null,
      "outputs": [
        {
          "output_type": "stream",
          "name": "stdout",
          "text": [
            "* * * * * * * * * * * * \n",
            "\n",
            "* 7 2 9 2 5 9 8 0 7 8 *\n",
            "\n",
            "\n",
            "* 1 9 6 7 6 3 1 3 5 1 *\n",
            "\n",
            "\n",
            "* 6 5 8 5 1 7 6 1 1 0 *\n",
            "\n",
            "\n",
            "* 8 0 9 7 7 4 4 5 3 1 *\n",
            "\n",
            "\n",
            "* 0 7 7 4 0 0 3 3 5 9 *\n",
            "\n",
            "\n",
            "* 2 4 4 0 0 6 2 9 9 6 *\n",
            "\n",
            "\n",
            "* 2 9 2 9 3 3 3 2 8 5 *\n",
            "\n",
            "\n",
            "* 9 6 0 6 8 4 6 8 2 6 *\n",
            "\n",
            "\n",
            "* 7 4 1 4 0 2 9 3 7 3 *\n",
            "\n",
            "\n",
            "* 6 5 5 2 4 9 6 1 3 8 *\n",
            "\n",
            "\n",
            "* * * * * * * * * * * * \n",
            "\n"
          ]
        }
      ]
    },
    {
      "cell_type": "markdown",
      "metadata": {
        "id": "9RHqJk8aOoEt"
      },
      "source": [
        "## 5. Optional (challenging): Calculate and Print the total of each row and column"
      ]
    },
    {
      "cell_type": "code",
      "metadata": {
        "colab": {
          "base_uri": "https://localhost:8080/"
        },
        "id": "IvGFfn4JOuCl",
        "outputId": "368b0bf2-b1ee-444f-98e0-b4bcccc11eec"
      },
      "source": [
        "arr = [0,0,0,0,0,0,0,0,0,0]\n",
        "for i in range(12):\n",
        "    row_result=0\n",
        "    for j in range(10):\n",
        "        if(i==10):\n",
        "            print(\"*\",end=\"\\t\")\n",
        "        elif(i==11):\n",
        "            print(arr[j], end=\"\\t\")\n",
        "        else:    \n",
        "            val =random.randint(0, 9)\n",
        "            arr[j]+=val\n",
        "            row_result+=val\n",
        "            print(val,end=\"\\t\")\n",
        "    if(i<10):        \n",
        "        print(\"*\",row_result)    \n",
        "    else:\n",
        "        print()"
      ],
      "execution_count": 14,
      "outputs": [
        {
          "output_type": "stream",
          "name": "stdout",
          "text": [
            "2\t7\t3\t3\t9\t6\t8\t6\t0\t7\t* 51\n",
            "4\t1\t9\t8\t3\t2\t2\t3\t2\t2\t* 36\n",
            "8\t8\t9\t6\t8\t8\t6\t1\t3\t1\t* 58\n",
            "4\t2\t6\t4\t0\t3\t1\t4\t1\t2\t* 27\n",
            "5\t8\t9\t9\t0\t8\t9\t8\t4\t1\t* 61\n",
            "4\t1\t0\t9\t0\t6\t1\t1\t2\t7\t* 31\n",
            "7\t3\t2\t3\t9\t9\t0\t5\t1\t1\t* 40\n",
            "4\t9\t5\t2\t3\t3\t4\t0\t4\t8\t* 42\n",
            "2\t4\t5\t1\t5\t0\t2\t9\t7\t5\t* 40\n",
            "4\t7\t4\t3\t3\t3\t0\t2\t7\t6\t* 39\n",
            "*\t*\t*\t*\t*\t*\t*\t*\t*\t*\t\n",
            "44\t50\t52\t48\t40\t48\t33\t39\t31\t40\t\n"
          ]
        }
      ]
    }
  ]
}